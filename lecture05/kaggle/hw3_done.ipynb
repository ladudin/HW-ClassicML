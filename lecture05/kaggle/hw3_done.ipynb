{
 "cells": [
  {
   "cell_type": "code",
   "execution_count": 1,
   "metadata": {},
   "outputs": [
    {
     "name": "stderr",
     "output_type": "stream",
     "text": [
      "[nltk_data] Downloading package stopwords to\n",
      "[nltk_data]     C:\\Users\\vald_\\AppData\\Roaming\\nltk_data...\n",
      "[nltk_data]   Package stopwords is already up-to-date!\n",
      "C:\\Users\\vald_\\AppData\\Local\\Temp\\ipykernel_24708\\1076333182.py:22: DeprecationWarning: Importing display from IPython.core.display is deprecated since IPython 7.14, please import from IPython display\n",
      "  from IPython.core.display import HTML, display\n"
     ]
    }
   ],
   "source": [
    "import json\n",
    "import re\n",
    "import requests\n",
    "\n",
    "import nltk\n",
    "nltk.download('stopwords')\n",
    "import pandas as pd\n",
    "import numpy as np\n",
    "import matplotlib.pyplot as plt\n",
    "import gensim\n",
    "plt.style.use('ggplot')\n",
    "from bs4 import BeautifulSoup\n",
    "from sklearn.model_selection import train_test_split, GridSearchCV\n",
    "from sklearn.preprocessing  import StandardScaler\n",
    "from sklearn.feature_extraction.text import TfidfVectorizer, CountVectorizer\n",
    "from sklearn.linear_model import LogisticRegression, SGDClassifier\n",
    "from sklearn.naive_bayes import MultinomialNB\n",
    "from sklearn.tree import DecisionTreeClassifier, plot_tree\n",
    "from sklearn.pipeline import Pipeline, FeatureUnion\n",
    "from sklearn.compose import ColumnTransformer\n",
    "from sklearn.metrics import f1_score\n",
    "from IPython.core.display import HTML, display\n",
    "from sklearn.model_selection import train_test_split\n",
    "from sklearn.metrics import f1_score"
   ]
  },
  {
   "cell_type": "code",
   "execution_count": 2,
   "metadata": {},
   "outputs": [],
   "source": [
    "SEED = 42"
   ]
  },
  {
   "cell_type": "code",
   "execution_count": 3,
   "metadata": {},
   "outputs": [
    {
     "data": {
      "text/html": [
       "<div>\n",
       "<style scoped>\n",
       "    .dataframe tbody tr th:only-of-type {\n",
       "        vertical-align: middle;\n",
       "    }\n",
       "\n",
       "    .dataframe tbody tr th {\n",
       "        vertical-align: top;\n",
       "    }\n",
       "\n",
       "    .dataframe thead th {\n",
       "        text-align: right;\n",
       "    }\n",
       "</style>\n",
       "<table border=\"1\" class=\"dataframe\">\n",
       "  <thead>\n",
       "    <tr style=\"text-align: right;\">\n",
       "      <th></th>\n",
       "      <th>id</th>\n",
       "      <th>url</th>\n",
       "      <th>title</th>\n",
       "      <th>target</th>\n",
       "    </tr>\n",
       "  </thead>\n",
       "  <tbody>\n",
       "    <tr>\n",
       "      <th>0</th>\n",
       "      <td>0</td>\n",
       "      <td>m.kp.md</td>\n",
       "      <td>Экс-министр экономики Молдовы - главе МИДЭИ, ц...</td>\n",
       "      <td>False</td>\n",
       "    </tr>\n",
       "    <tr>\n",
       "      <th>1</th>\n",
       "      <td>1</td>\n",
       "      <td>www.kp.by</td>\n",
       "      <td>Эта песня стала известна многим телезрителям б...</td>\n",
       "      <td>False</td>\n",
       "    </tr>\n",
       "    <tr>\n",
       "      <th>2</th>\n",
       "      <td>2</td>\n",
       "      <td>fanserials.tv</td>\n",
       "      <td>Банши 4 сезон 2 серия Бремя красоты смотреть о...</td>\n",
       "      <td>False</td>\n",
       "    </tr>\n",
       "    <tr>\n",
       "      <th>3</th>\n",
       "      <td>3</td>\n",
       "      <td>colorbox.spb.ru</td>\n",
       "      <td>Не Беси Меня Картинки</td>\n",
       "      <td>False</td>\n",
       "    </tr>\n",
       "    <tr>\n",
       "      <th>4</th>\n",
       "      <td>4</td>\n",
       "      <td>tula-sport.ru</td>\n",
       "      <td>В Новомосковске сыграют следж-хоккеисты алекси...</td>\n",
       "      <td>False</td>\n",
       "    </tr>\n",
       "  </tbody>\n",
       "</table>\n",
       "</div>"
      ],
      "text/plain": [
       "   id              url                                              title  \\\n",
       "0   0          m.kp.md  Экс-министр экономики Молдовы - главе МИДЭИ, ц...   \n",
       "1   1        www.kp.by  Эта песня стала известна многим телезрителям б...   \n",
       "2   2    fanserials.tv  Банши 4 сезон 2 серия Бремя красоты смотреть о...   \n",
       "3   3  colorbox.spb.ru                              Не Беси Меня Картинки   \n",
       "4   4    tula-sport.ru  В Новомосковске сыграют следж-хоккеисты алекси...   \n",
       "\n",
       "   target  \n",
       "0   False  \n",
       "1   False  \n",
       "2   False  \n",
       "3   False  \n",
       "4   False  "
      ]
     },
     "execution_count": 3,
     "metadata": {},
     "output_type": "execute_result"
    }
   ],
   "source": [
    "X = pd.read_csv(\"train.csv\")\n",
    "X.head()"
   ]
  },
  {
   "cell_type": "code",
   "execution_count": 4,
   "metadata": {},
   "outputs": [
    {
     "data": {
      "text/html": [
       "<div>\n",
       "<style scoped>\n",
       "    .dataframe tbody tr th:only-of-type {\n",
       "        vertical-align: middle;\n",
       "    }\n",
       "\n",
       "    .dataframe tbody tr th {\n",
       "        vertical-align: top;\n",
       "    }\n",
       "\n",
       "    .dataframe thead th {\n",
       "        text-align: right;\n",
       "    }\n",
       "</style>\n",
       "<table border=\"1\" class=\"dataframe\">\n",
       "  <thead>\n",
       "    <tr style=\"text-align: right;\">\n",
       "      <th></th>\n",
       "      <th>url</th>\n",
       "      <th>title</th>\n",
       "      <th>target</th>\n",
       "    </tr>\n",
       "  </thead>\n",
       "  <tbody>\n",
       "    <tr>\n",
       "      <th>0</th>\n",
       "      <td>m.kp.md</td>\n",
       "      <td>Экс-министр экономики Молдовы - главе МИДЭИ, ц...</td>\n",
       "      <td>False</td>\n",
       "    </tr>\n",
       "    <tr>\n",
       "      <th>1</th>\n",
       "      <td>www.kp.by</td>\n",
       "      <td>Эта песня стала известна многим телезрителям б...</td>\n",
       "      <td>False</td>\n",
       "    </tr>\n",
       "    <tr>\n",
       "      <th>2</th>\n",
       "      <td>fanserials.tv</td>\n",
       "      <td>Банши 4 сезон 2 серия Бремя красоты смотреть о...</td>\n",
       "      <td>False</td>\n",
       "    </tr>\n",
       "    <tr>\n",
       "      <th>3</th>\n",
       "      <td>colorbox.spb.ru</td>\n",
       "      <td>Не Беси Меня Картинки</td>\n",
       "      <td>False</td>\n",
       "    </tr>\n",
       "    <tr>\n",
       "      <th>4</th>\n",
       "      <td>tula-sport.ru</td>\n",
       "      <td>В Новомосковске сыграют следж-хоккеисты алекси...</td>\n",
       "      <td>False</td>\n",
       "    </tr>\n",
       "  </tbody>\n",
       "</table>\n",
       "</div>"
      ],
      "text/plain": [
       "               url                                              title  target\n",
       "0          m.kp.md  Экс-министр экономики Молдовы - главе МИДЭИ, ц...   False\n",
       "1        www.kp.by  Эта песня стала известна многим телезрителям б...   False\n",
       "2    fanserials.tv  Банши 4 сезон 2 серия Бремя красоты смотреть о...   False\n",
       "3  colorbox.spb.ru                              Не Беси Меня Картинки   False\n",
       "4    tula-sport.ru  В Новомосковске сыграют следж-хоккеисты алекси...   False"
      ]
     },
     "execution_count": 4,
     "metadata": {},
     "output_type": "execute_result"
    }
   ],
   "source": [
    "del X[\"id\"]\n",
    "X.head()"
   ]
  },
  {
   "cell_type": "code",
   "execution_count": 5,
   "metadata": {},
   "outputs": [
    {
     "data": {
      "text/plain": [
       "0    False\n",
       "1    False\n",
       "2    False\n",
       "3    False\n",
       "4    False\n",
       "Name: target, dtype: bool"
      ]
     },
     "execution_count": 5,
     "metadata": {},
     "output_type": "execute_result"
    }
   ],
   "source": [
    "y = X[\"target\"]\n",
    "y.head()"
   ]
  },
  {
   "cell_type": "code",
   "execution_count": 6,
   "metadata": {},
   "outputs": [
    {
     "data": {
      "text/html": [
       "<div>\n",
       "<style scoped>\n",
       "    .dataframe tbody tr th:only-of-type {\n",
       "        vertical-align: middle;\n",
       "    }\n",
       "\n",
       "    .dataframe tbody tr th {\n",
       "        vertical-align: top;\n",
       "    }\n",
       "\n",
       "    .dataframe thead th {\n",
       "        text-align: right;\n",
       "    }\n",
       "</style>\n",
       "<table border=\"1\" class=\"dataframe\">\n",
       "  <thead>\n",
       "    <tr style=\"text-align: right;\">\n",
       "      <th></th>\n",
       "      <th>url</th>\n",
       "      <th>title</th>\n",
       "    </tr>\n",
       "  </thead>\n",
       "  <tbody>\n",
       "    <tr>\n",
       "      <th>0</th>\n",
       "      <td>m.kp.md</td>\n",
       "      <td>Экс-министр экономики Молдовы - главе МИДЭИ, ц...</td>\n",
       "    </tr>\n",
       "    <tr>\n",
       "      <th>1</th>\n",
       "      <td>www.kp.by</td>\n",
       "      <td>Эта песня стала известна многим телезрителям б...</td>\n",
       "    </tr>\n",
       "    <tr>\n",
       "      <th>2</th>\n",
       "      <td>fanserials.tv</td>\n",
       "      <td>Банши 4 сезон 2 серия Бремя красоты смотреть о...</td>\n",
       "    </tr>\n",
       "    <tr>\n",
       "      <th>3</th>\n",
       "      <td>colorbox.spb.ru</td>\n",
       "      <td>Не Беси Меня Картинки</td>\n",
       "    </tr>\n",
       "    <tr>\n",
       "      <th>4</th>\n",
       "      <td>tula-sport.ru</td>\n",
       "      <td>В Новомосковске сыграют следж-хоккеисты алекси...</td>\n",
       "    </tr>\n",
       "  </tbody>\n",
       "</table>\n",
       "</div>"
      ],
      "text/plain": [
       "               url                                              title\n",
       "0          m.kp.md  Экс-министр экономики Молдовы - главе МИДЭИ, ц...\n",
       "1        www.kp.by  Эта песня стала известна многим телезрителям б...\n",
       "2    fanserials.tv  Банши 4 сезон 2 серия Бремя красоты смотреть о...\n",
       "3  colorbox.spb.ru                              Не Беси Меня Картинки\n",
       "4    tula-sport.ru  В Новомосковске сыграют следж-хоккеисты алекси..."
      ]
     },
     "execution_count": 6,
     "metadata": {},
     "output_type": "execute_result"
    }
   ],
   "source": [
    "del X[\"target\"]\n",
    "X.head()"
   ]
  },
  {
   "cell_type": "markdown",
   "metadata": {},
   "source": [
    "### Submit"
   ]
  },
  {
   "cell_type": "code",
   "execution_count": 8,
   "metadata": {},
   "outputs": [],
   "source": [
    "# test_df[\"target\"] = [(\"порно\" in text) for text in X_test]\n",
    "\n",
    "# test_df[[\"id\", \"target\"]].to_csv(\"simple_baseline.csv\", index=False)\n",
    "\n",
    "# !cat simple_baseline.csv | head"
   ]
  },
  {
   "cell_type": "markdown",
   "metadata": {},
   "source": [
    "### Не все так однозначно\n",
    "\n",
    "**не порно**:\n",
    "- Болезни опорно-двигательной системы и импотенция: взаимосвязь\n",
    "- Транссексуальные рыбы - National Geographic Россия: красота мира в каждом кадре\n",
    "- Групповая обзорная экскурсия по Афинам - цена €50\n",
    "- Больного раком Задорнова затравили в соцсетях.\n",
    "- Гомосексуалисты на «Первом канале»? Эрнст и Галкин – скрытая гей-пара российского шоу-бизнеса | Заметки о стиле, моде и жизни\n",
    "\n",
    "**порно**:\n",
    "- Отборная домашка\n",
    "- Сюзанна - карьера горничной / Susanna cameriera perversa (с русским переводом) 1995 г., DVDRip"
   ]
  },
  {
   "cell_type": "markdown",
   "metadata": {},
   "source": [
    "# ML baseline"
   ]
  },
  {
   "cell_type": "code",
   "execution_count": 7,
   "metadata": {},
   "outputs": [],
   "source": [
    "X_train, X_val, y_train, y_val = train_test_split(X, y, train_size=0.75, random_state=SEED, shuffle=False)"
   ]
  },
  {
   "cell_type": "code",
   "execution_count": 93,
   "metadata": {},
   "outputs": [],
   "source": [
    "stemmer = nltk.stem.SnowballStemmer(language='russian')"
   ]
  },
  {
   "cell_type": "code",
   "execution_count": 8,
   "metadata": {},
   "outputs": [],
   "source": [
    "import pymorphy2\n",
    "lemmatizer = pymorphy2.MorphAnalyzer()"
   ]
  },
  {
   "cell_type": "code",
   "execution_count": 9,
   "metadata": {},
   "outputs": [
    {
     "data": {
      "text/plain": [
       "9380"
      ]
     },
     "execution_count": 9,
     "metadata": {},
     "output_type": "execute_result"
    }
   ],
   "source": [
    "stop_words = set(nltk.corpus.stopwords.words())\n",
    "len(stop_words)"
   ]
  },
  {
   "cell_type": "code",
   "execution_count": 10,
   "metadata": {},
   "outputs": [],
   "source": [
    "def preprocessor(text):\n",
    "    whitespaced_text = re.sub(\"[^а-яёa-z]\", ' ', text.lower())\n",
    "    clear_text = re.sub(' +', ' ',  whitespaced_text)\n",
    "    words = []\n",
    "    for word in clear_text.split():\n",
    "        inf_word = lemmatizer.parse(word.replace(\"ё\", \"е\"))[0].normal_form\n",
    "        if inf_word not in stop_words:\n",
    "            words.append(inf_word)\n",
    "    return ' '.join(words)"
   ]
  },
  {
   "cell_type": "code",
   "execution_count": 11,
   "metadata": {},
   "outputs": [],
   "source": [
    "X[\"title_clear\"] = X[\"title\"].apply(preprocessor)"
   ]
  },
  {
   "cell_type": "code",
   "execution_count": 12,
   "metadata": {},
   "outputs": [],
   "source": [
    "X[\"title_words\"] = X[\"title_clear\"].apply(str.split)"
   ]
  },
  {
   "cell_type": "code",
   "execution_count": 13,
   "metadata": {},
   "outputs": [],
   "source": [
    "X_train, X_val, y_train, y_val = train_test_split(X, y, train_size=0.75, random_state=SEED, shuffle=False)"
   ]
  },
  {
   "cell_type": "code",
   "execution_count": 14,
   "metadata": {},
   "outputs": [],
   "source": [
    "def into_pairs(words):\n",
    "    return [words[i] + '_' + words[i+1] for i in range(len(words)-1)]"
   ]
  },
  {
   "cell_type": "code",
   "execution_count": 15,
   "metadata": {},
   "outputs": [],
   "source": [
    "from collections import Counter\n",
    "def get_pairs(words):\n",
    "    return [(words[i], words[i+1]) for i in range(len(words)-1)]\n",
    "cooccurence = Counter(pair for words in X_train[\"title_words\"] for pair in get_pairs(words))"
   ]
  },
  {
   "cell_type": "code",
   "execution_count": 16,
   "metadata": {},
   "outputs": [],
   "source": [
    "MIN_COUNT = 10\n",
    "step = 1\n",
    "def find_collocations(words):\n",
    "    if len(words) < 2:\n",
    "        return words\n",
    "    new_words = []\n",
    "    i = 0\n",
    "    last_in_pair = False\n",
    "    while i < len(words) - 1:\n",
    "        if cooccurence.get((words[i], words[i+1]), 0) >= MIN_COUNT:\n",
    "            new_words.append(words[i]+\"_\"+words[i+1])\n",
    "            i += step\n",
    "            last_in_pair = True\n",
    "        else:\n",
    "            if not last_in_pair:\n",
    "                new_words.append(words[i])\n",
    "            i += 1\n",
    "            last_in_pair = False\n",
    "    if not last_in_pair:\n",
    "        new_words.append(words[-1])\n",
    "    return new_words"
   ]
  },
  {
   "cell_type": "code",
   "execution_count": 17,
   "metadata": {},
   "outputs": [],
   "source": [
    "X[\"title_coll\"] = X[\"title_words\"].apply(find_collocations)"
   ]
  },
  {
   "cell_type": "code",
   "execution_count": 19,
   "metadata": {},
   "outputs": [],
   "source": [
    "X_train, X_val, y_train, y_val = train_test_split(X, y, train_size=0.75, random_state=SEED, shuffle=False)"
   ]
  },
  {
   "cell_type": "code",
   "execution_count": 57,
   "metadata": {},
   "outputs": [],
   "source": [
    "from sklearn.neural_network import MLPClassifier"
   ]
  },
  {
   "cell_type": "code",
   "execution_count": 63,
   "metadata": {},
   "outputs": [],
   "source": [
    "title_model = Pipeline([\n",
    "    (\n",
    "        'vectorizer',\n",
    "        TfidfVectorizer(\n",
    "            lowercase=False,\n",
    "            analyzer='word',\n",
    "            ngram_range=(1,2),\n",
    "        )\n",
    "    ),\n",
    "    # ('clf', KNeighborsClassifier(n_neighbors=3, metric='cosine'))\n",
    "    # ('clf', MLPClassifier(alpha=0.00006))\n",
    "    ('clf', SGDClassifier(random_state=SEED, loss='modified_huber', class_weight='balanced', alpha=0.000007))\n",
    "])"
   ]
  },
  {
   "cell_type": "code",
   "execution_count": 64,
   "metadata": {},
   "outputs": [
    {
     "data": {
      "text/html": [
       "<style>#sk-container-id-9 {color: black;background-color: white;}#sk-container-id-9 pre{padding: 0;}#sk-container-id-9 div.sk-toggleable {background-color: white;}#sk-container-id-9 label.sk-toggleable__label {cursor: pointer;display: block;width: 100%;margin-bottom: 0;padding: 0.3em;box-sizing: border-box;text-align: center;}#sk-container-id-9 label.sk-toggleable__label-arrow:before {content: \"▸\";float: left;margin-right: 0.25em;color: #696969;}#sk-container-id-9 label.sk-toggleable__label-arrow:hover:before {color: black;}#sk-container-id-9 div.sk-estimator:hover label.sk-toggleable__label-arrow:before {color: black;}#sk-container-id-9 div.sk-toggleable__content {max-height: 0;max-width: 0;overflow: hidden;text-align: left;background-color: #f0f8ff;}#sk-container-id-9 div.sk-toggleable__content pre {margin: 0.2em;color: black;border-radius: 0.25em;background-color: #f0f8ff;}#sk-container-id-9 input.sk-toggleable__control:checked~div.sk-toggleable__content {max-height: 200px;max-width: 100%;overflow: auto;}#sk-container-id-9 input.sk-toggleable__control:checked~label.sk-toggleable__label-arrow:before {content: \"▾\";}#sk-container-id-9 div.sk-estimator input.sk-toggleable__control:checked~label.sk-toggleable__label {background-color: #d4ebff;}#sk-container-id-9 div.sk-label input.sk-toggleable__control:checked~label.sk-toggleable__label {background-color: #d4ebff;}#sk-container-id-9 input.sk-hidden--visually {border: 0;clip: rect(1px 1px 1px 1px);clip: rect(1px, 1px, 1px, 1px);height: 1px;margin: -1px;overflow: hidden;padding: 0;position: absolute;width: 1px;}#sk-container-id-9 div.sk-estimator {font-family: monospace;background-color: #f0f8ff;border: 1px dotted black;border-radius: 0.25em;box-sizing: border-box;margin-bottom: 0.5em;}#sk-container-id-9 div.sk-estimator:hover {background-color: #d4ebff;}#sk-container-id-9 div.sk-parallel-item::after {content: \"\";width: 100%;border-bottom: 1px solid gray;flex-grow: 1;}#sk-container-id-9 div.sk-label:hover label.sk-toggleable__label {background-color: #d4ebff;}#sk-container-id-9 div.sk-serial::before {content: \"\";position: absolute;border-left: 1px solid gray;box-sizing: border-box;top: 0;bottom: 0;left: 50%;z-index: 0;}#sk-container-id-9 div.sk-serial {display: flex;flex-direction: column;align-items: center;background-color: white;padding-right: 0.2em;padding-left: 0.2em;position: relative;}#sk-container-id-9 div.sk-item {position: relative;z-index: 1;}#sk-container-id-9 div.sk-parallel {display: flex;align-items: stretch;justify-content: center;background-color: white;position: relative;}#sk-container-id-9 div.sk-item::before, #sk-container-id-9 div.sk-parallel-item::before {content: \"\";position: absolute;border-left: 1px solid gray;box-sizing: border-box;top: 0;bottom: 0;left: 50%;z-index: -1;}#sk-container-id-9 div.sk-parallel-item {display: flex;flex-direction: column;z-index: 1;position: relative;background-color: white;}#sk-container-id-9 div.sk-parallel-item:first-child::after {align-self: flex-end;width: 50%;}#sk-container-id-9 div.sk-parallel-item:last-child::after {align-self: flex-start;width: 50%;}#sk-container-id-9 div.sk-parallel-item:only-child::after {width: 0;}#sk-container-id-9 div.sk-dashed-wrapped {border: 1px dashed gray;margin: 0 0.4em 0.5em 0.4em;box-sizing: border-box;padding-bottom: 0.4em;background-color: white;}#sk-container-id-9 div.sk-label label {font-family: monospace;font-weight: bold;display: inline-block;line-height: 1.2em;}#sk-container-id-9 div.sk-label-container {text-align: center;}#sk-container-id-9 div.sk-container {/* jupyter's `normalize.less` sets `[hidden] { display: none; }` but bootstrap.min.css set `[hidden] { display: none !important; }` so we also need the `!important` here to be able to override the default hidden behavior on the sphinx rendered scikit-learn.org. See: https://github.com/scikit-learn/scikit-learn/issues/21755 */display: inline-block !important;position: relative;}#sk-container-id-9 div.sk-text-repr-fallback {display: none;}</style><div id=\"sk-container-id-9\" class=\"sk-top-container\"><div class=\"sk-text-repr-fallback\"><pre>Pipeline(steps=[(&#x27;vectorizer&#x27;,\n",
       "                 TfidfVectorizer(lowercase=False, ngram_range=(1, 2))),\n",
       "                (&#x27;clf&#x27;,\n",
       "                 SGDClassifier(alpha=7e-06, class_weight=&#x27;balanced&#x27;,\n",
       "                               loss=&#x27;modified_huber&#x27;, random_state=42))])</pre><b>In a Jupyter environment, please rerun this cell to show the HTML representation or trust the notebook. <br />On GitHub, the HTML representation is unable to render, please try loading this page with nbviewer.org.</b></div><div class=\"sk-container\" hidden><div class=\"sk-item sk-dashed-wrapped\"><div class=\"sk-label-container\"><div class=\"sk-label sk-toggleable\"><input class=\"sk-toggleable__control sk-hidden--visually\" id=\"sk-estimator-id-25\" type=\"checkbox\" ><label for=\"sk-estimator-id-25\" class=\"sk-toggleable__label sk-toggleable__label-arrow\">Pipeline</label><div class=\"sk-toggleable__content\"><pre>Pipeline(steps=[(&#x27;vectorizer&#x27;,\n",
       "                 TfidfVectorizer(lowercase=False, ngram_range=(1, 2))),\n",
       "                (&#x27;clf&#x27;,\n",
       "                 SGDClassifier(alpha=7e-06, class_weight=&#x27;balanced&#x27;,\n",
       "                               loss=&#x27;modified_huber&#x27;, random_state=42))])</pre></div></div></div><div class=\"sk-serial\"><div class=\"sk-item\"><div class=\"sk-estimator sk-toggleable\"><input class=\"sk-toggleable__control sk-hidden--visually\" id=\"sk-estimator-id-26\" type=\"checkbox\" ><label for=\"sk-estimator-id-26\" class=\"sk-toggleable__label sk-toggleable__label-arrow\">TfidfVectorizer</label><div class=\"sk-toggleable__content\"><pre>TfidfVectorizer(lowercase=False, ngram_range=(1, 2))</pre></div></div></div><div class=\"sk-item\"><div class=\"sk-estimator sk-toggleable\"><input class=\"sk-toggleable__control sk-hidden--visually\" id=\"sk-estimator-id-27\" type=\"checkbox\" ><label for=\"sk-estimator-id-27\" class=\"sk-toggleable__label sk-toggleable__label-arrow\">SGDClassifier</label><div class=\"sk-toggleable__content\"><pre>SGDClassifier(alpha=7e-06, class_weight=&#x27;balanced&#x27;, loss=&#x27;modified_huber&#x27;,\n",
       "              random_state=42)</pre></div></div></div></div></div></div></div>"
      ],
      "text/plain": [
       "Pipeline(steps=[('vectorizer',\n",
       "                 TfidfVectorizer(lowercase=False, ngram_range=(1, 2))),\n",
       "                ('clf',\n",
       "                 SGDClassifier(alpha=7e-06, class_weight='balanced',\n",
       "                               loss='modified_huber', random_state=42))])"
      ]
     },
     "execution_count": 64,
     "metadata": {},
     "output_type": "execute_result"
    }
   ],
   "source": [
    "title_model.fit(X_train[\"title_clear\"], y_train)"
   ]
  },
  {
   "cell_type": "code",
   "execution_count": 65,
   "metadata": {},
   "outputs": [],
   "source": [
    "ypred = title_model.predict(X_val[\"title_clear\"])"
   ]
  },
  {
   "cell_type": "code",
   "execution_count": 66,
   "metadata": {},
   "outputs": [
    {
     "data": {
      "text/plain": [
       "0.9606017191977078"
      ]
     },
     "execution_count": 66,
     "metadata": {},
     "output_type": "execute_result"
    }
   ],
   "source": [
    "f1_score(y_val, ypred)"
   ]
  },
  {
   "cell_type": "code",
   "execution_count": null,
   "metadata": {},
   "outputs": [],
   "source": []
  },
  {
   "cell_type": "code",
   "execution_count": 80,
   "metadata": {},
   "outputs": [],
   "source": [
    "array = np.array(X_val[\"title_clear\"])"
   ]
  },
  {
   "cell_type": "code",
   "execution_count": 144,
   "metadata": {},
   "outputs": [
    {
     "data": {
      "text/plain": [
       "'мастурбац'"
      ]
     },
     "execution_count": 144,
     "metadata": {},
     "output_type": "execute_result"
    }
   ],
   "source": [
    "stemmer.stem(\"мастурбация\")"
   ]
  },
  {
   "cell_type": "code",
   "execution_count": 143,
   "metadata": {},
   "outputs": [
    {
     "data": {
      "text/plain": [
       "[Parse(word='мастурбация', tag=OpencorporaTag('NOUN,inan,femn sing,nomn'), normal_form='мастурбация', score=1.0, methods_stack=((DictionaryAnalyzer(), 'мастурбация', 41, 0),))]"
      ]
     },
     "execution_count": 143,
     "metadata": {},
     "output_type": "execute_result"
    }
   ],
   "source": [
    "lemmatizer.parse(\"мастурбация\")"
   ]
  },
  {
   "cell_type": "code",
   "execution_count": 149,
   "metadata": {},
   "outputs": [],
   "source": [
    "mytest = np.array([\"мастурбация мастурбация\"])"
   ]
  },
  {
   "cell_type": "code",
   "execution_count": 150,
   "metadata": {},
   "outputs": [
    {
     "data": {
      "text/plain": [
       "array([[0.65612689, 0.34387311]])"
      ]
     },
     "execution_count": 150,
     "metadata": {},
     "output_type": "execute_result"
    }
   ],
   "source": [
    "title_model.predict_proba(mytest)"
   ]
  },
  {
   "cell_type": "code",
   "execution_count": 115,
   "metadata": {},
   "outputs": [
    {
     "data": {
      "text/plain": [
       "array([[0.52176449, 0.47823551]])"
      ]
     },
     "execution_count": 115,
     "metadata": {},
     "output_type": "execute_result"
    }
   ],
   "source": [
    "title_model.predict_proba(array[148:149])"
   ]
  },
  {
   "cell_type": "code",
   "execution_count": 114,
   "metadata": {},
   "outputs": [
    {
     "data": {
      "text/plain": [
       "'проститутка первомайский большой выбор доска бесплатный объявление проститут'"
      ]
     },
     "execution_count": 114,
     "metadata": {},
     "output_type": "execute_result"
    }
   ],
   "source": [
    "X_val[\"title_clear\"][101481 + 148]"
   ]
  },
  {
   "cell_type": "code",
   "execution_count": 39,
   "metadata": {},
   "outputs": [
    {
     "data": {
      "text/plain": [
       "(array([   49,   135,   146,   148,   193,   303,   321,   339,   346,\n",
       "          378,   561,   582,   889,   890,   995,  1056,  1108,  1160,\n",
       "         1174,  1405,  1408,  1421,  1429,  1676,  1696,  1766,  1780,\n",
       "         1796,  1867,  2295,  2340,  2380,  2471,  2579,  2757,  2812,\n",
       "         2948,  3015,  3035,  3154,  3178,  3275,  3380,  3573,  3581,\n",
       "         3683,  3690,  3766,  3948,  4008,  4017,  4057,  4060,  4076,\n",
       "         4088,  4097,  4212,  4245,  4317,  4377,  4460,  4570,  4611,\n",
       "         4701,  4722,  4861,  4883,  5017,  5048,  5098,  5150,  5441,\n",
       "         5442,  5456,  5463,  5548,  5560,  5576,  5645,  5831,  5963,\n",
       "         6217,  6247,  6341,  6619,  6685,  6766,  6794,  6814,  6820,\n",
       "         7007,  7282,  7462,  7575,  7669,  7688,  7698,  7916,  7943,\n",
       "         7998,  8132,  8192,  8194,  8451,  8534,  8775,  8832,  8935,\n",
       "         8943,  8989,  9144,  9217,  9386,  9496,  9523,  9580,  9772,\n",
       "         9814,  9887,  9975,  9998, 10000, 10165, 10348, 10392, 10610,\n",
       "        10629, 10643, 10709, 10759, 10820, 10936, 11084, 11107, 11425,\n",
       "        11478, 11540, 11819, 11993, 12092, 12202, 12236, 12421, 12553,\n",
       "        12595, 12640, 12647, 12946, 13050, 13200, 13304, 13356, 13371,\n",
       "        13388, 13510, 13550, 13571, 13635, 13665, 13761, 13779, 13889,\n",
       "        14002, 14063, 14079, 14164, 14323, 14366, 14398, 14421, 14466,\n",
       "        14477, 14523, 14563, 14822, 14835, 14974, 15266, 15445, 15618,\n",
       "        15858, 15888, 16067, 16451, 16469, 16661, 16784, 16821, 16841,\n",
       "        16918, 16927, 16976, 16994, 17086, 17333, 17592, 17908, 18133,\n",
       "        18240, 18343, 18426, 18465, 18610, 19019, 19236, 19296, 19523,\n",
       "        19793, 19794, 20250, 20497, 20683, 20841, 20889, 20998, 21037,\n",
       "        21111, 21134, 21238, 21397, 21454, 21496, 21635, 21665, 21684,\n",
       "        21776, 21891, 22062, 22256, 22282, 22543, 22738, 22761, 22822,\n",
       "        22837, 22907, 23023, 23112, 23175, 23295, 23366, 23461, 23493,\n",
       "        23562, 23684, 23765, 23842, 23852, 24123, 24304, 24453, 24482,\n",
       "        24628, 24666, 24891, 24967, 25081, 25086, 25092, 25098, 25150,\n",
       "        25180, 25229, 25237, 25400, 25511, 25528, 25789, 25943, 26058,\n",
       "        26074, 26115, 26270, 26394, 26544, 26546, 26573, 26733, 26797,\n",
       "        27335, 27452, 27760, 27778, 28085, 28295, 28529, 28695, 28742,\n",
       "        29130, 29149, 29280, 29375, 29390, 29506, 29513, 29606, 29619,\n",
       "        29785, 29896, 29911, 30004, 30208, 30238, 30292, 30504, 30817,\n",
       "        31004, 31025, 31038, 31099, 31379, 31487, 31638, 31722, 31790,\n",
       "        31885, 32346, 32401, 32469, 32512, 32693, 32793, 33008, 33037,\n",
       "        33055, 33283, 33326, 33499, 33548, 33703], dtype=int64),)"
      ]
     },
     "execution_count": 39,
     "metadata": {},
     "output_type": "execute_result"
    }
   ],
   "source": [
    "np.where(y_val != ypred)"
   ]
  },
  {
   "cell_type": "code",
   "execution_count": 28,
   "metadata": {},
   "outputs": [],
   "source": [
    "from sklearn.metrics import classification_report"
   ]
  },
  {
   "cell_type": "code",
   "execution_count": 38,
   "metadata": {},
   "outputs": [
    {
     "name": "stdout",
     "output_type": "stream",
     "text": [
      "              precision    recall  f1-score   support\n",
      "\n",
      "       False       0.99      1.00      0.99     29603\n",
      "        True       0.97      0.95      0.96      4225\n",
      "\n",
      "    accuracy                           0.99     33828\n",
      "   macro avg       0.98      0.97      0.98     33828\n",
      "weighted avg       0.99      0.99      0.99     33828\n",
      "\n"
     ]
    }
   ],
   "source": [
    "print(classification_report(y_val, ypred))"
   ]
  },
  {
   "cell_type": "code",
   "execution_count": 510,
   "metadata": {},
   "outputs": [
    {
     "data": {
      "text/plain": [
       "0.9871743486973948"
      ]
     },
     "execution_count": 510,
     "metadata": {},
     "output_type": "execute_result"
    }
   ],
   "source": [
    "f1_score(y_train, title_model.predict(X_train[\"title_clear\"]))"
   ]
  },
  {
   "cell_type": "code",
   "execution_count": 822,
   "metadata": {},
   "outputs": [],
   "source": [
    "def parse_url(url):\n",
    "    return ' '.join([lemmatizer.parse(word)[0].normal_form for word in re.split(r'[-_\\.]+', url.lower())])"
   ]
  },
  {
   "cell_type": "code",
   "execution_count": 841,
   "metadata": {},
   "outputs": [],
   "source": [
    "url_model = Pipeline([\n",
    "    (\n",
    "        'vectorizer',\n",
    "        TfidfVectorizer(\n",
    "            lowercase=True, ngram_range=(1, 1), analyzer='word',\n",
    "            preprocessor=preprocessor, min_df=3, max_df=0.5\n",
    "        )\n",
    "    ),\n",
    "    ('clf', SGDClassifier(random_state=SEED, loss='modified_huber', class_weight='balanced', alpha=0.00007))\n",
    "])"
   ]
  },
  {
   "cell_type": "code",
   "execution_count": 842,
   "metadata": {},
   "outputs": [
    {
     "data": {
      "text/html": [
       "<style>#sk-container-id-118 {color: black;background-color: white;}#sk-container-id-118 pre{padding: 0;}#sk-container-id-118 div.sk-toggleable {background-color: white;}#sk-container-id-118 label.sk-toggleable__label {cursor: pointer;display: block;width: 100%;margin-bottom: 0;padding: 0.3em;box-sizing: border-box;text-align: center;}#sk-container-id-118 label.sk-toggleable__label-arrow:before {content: \"▸\";float: left;margin-right: 0.25em;color: #696969;}#sk-container-id-118 label.sk-toggleable__label-arrow:hover:before {color: black;}#sk-container-id-118 div.sk-estimator:hover label.sk-toggleable__label-arrow:before {color: black;}#sk-container-id-118 div.sk-toggleable__content {max-height: 0;max-width: 0;overflow: hidden;text-align: left;background-color: #f0f8ff;}#sk-container-id-118 div.sk-toggleable__content pre {margin: 0.2em;color: black;border-radius: 0.25em;background-color: #f0f8ff;}#sk-container-id-118 input.sk-toggleable__control:checked~div.sk-toggleable__content {max-height: 200px;max-width: 100%;overflow: auto;}#sk-container-id-118 input.sk-toggleable__control:checked~label.sk-toggleable__label-arrow:before {content: \"▾\";}#sk-container-id-118 div.sk-estimator input.sk-toggleable__control:checked~label.sk-toggleable__label {background-color: #d4ebff;}#sk-container-id-118 div.sk-label input.sk-toggleable__control:checked~label.sk-toggleable__label {background-color: #d4ebff;}#sk-container-id-118 input.sk-hidden--visually {border: 0;clip: rect(1px 1px 1px 1px);clip: rect(1px, 1px, 1px, 1px);height: 1px;margin: -1px;overflow: hidden;padding: 0;position: absolute;width: 1px;}#sk-container-id-118 div.sk-estimator {font-family: monospace;background-color: #f0f8ff;border: 1px dotted black;border-radius: 0.25em;box-sizing: border-box;margin-bottom: 0.5em;}#sk-container-id-118 div.sk-estimator:hover {background-color: #d4ebff;}#sk-container-id-118 div.sk-parallel-item::after {content: \"\";width: 100%;border-bottom: 1px solid gray;flex-grow: 1;}#sk-container-id-118 div.sk-label:hover label.sk-toggleable__label {background-color: #d4ebff;}#sk-container-id-118 div.sk-serial::before {content: \"\";position: absolute;border-left: 1px solid gray;box-sizing: border-box;top: 0;bottom: 0;left: 50%;z-index: 0;}#sk-container-id-118 div.sk-serial {display: flex;flex-direction: column;align-items: center;background-color: white;padding-right: 0.2em;padding-left: 0.2em;position: relative;}#sk-container-id-118 div.sk-item {position: relative;z-index: 1;}#sk-container-id-118 div.sk-parallel {display: flex;align-items: stretch;justify-content: center;background-color: white;position: relative;}#sk-container-id-118 div.sk-item::before, #sk-container-id-118 div.sk-parallel-item::before {content: \"\";position: absolute;border-left: 1px solid gray;box-sizing: border-box;top: 0;bottom: 0;left: 50%;z-index: -1;}#sk-container-id-118 div.sk-parallel-item {display: flex;flex-direction: column;z-index: 1;position: relative;background-color: white;}#sk-container-id-118 div.sk-parallel-item:first-child::after {align-self: flex-end;width: 50%;}#sk-container-id-118 div.sk-parallel-item:last-child::after {align-self: flex-start;width: 50%;}#sk-container-id-118 div.sk-parallel-item:only-child::after {width: 0;}#sk-container-id-118 div.sk-dashed-wrapped {border: 1px dashed gray;margin: 0 0.4em 0.5em 0.4em;box-sizing: border-box;padding-bottom: 0.4em;background-color: white;}#sk-container-id-118 div.sk-label label {font-family: monospace;font-weight: bold;display: inline-block;line-height: 1.2em;}#sk-container-id-118 div.sk-label-container {text-align: center;}#sk-container-id-118 div.sk-container {/* jupyter's `normalize.less` sets `[hidden] { display: none; }` but bootstrap.min.css set `[hidden] { display: none !important; }` so we also need the `!important` here to be able to override the default hidden behavior on the sphinx rendered scikit-learn.org. See: https://github.com/scikit-learn/scikit-learn/issues/21755 */display: inline-block !important;position: relative;}#sk-container-id-118 div.sk-text-repr-fallback {display: none;}</style><div id=\"sk-container-id-118\" class=\"sk-top-container\"><div class=\"sk-text-repr-fallback\"><pre>Pipeline(steps=[(&#x27;vectorizer&#x27;,\n",
       "                 TfidfVectorizer(max_df=0.5, min_df=3,\n",
       "                                 preprocessor=&lt;function preprocessor at 0x00000292D3517D00&gt;)),\n",
       "                (&#x27;clf&#x27;,\n",
       "                 SGDClassifier(alpha=7e-05, class_weight=&#x27;balanced&#x27;,\n",
       "                               loss=&#x27;modified_huber&#x27;, random_state=42))])</pre><b>In a Jupyter environment, please rerun this cell to show the HTML representation or trust the notebook. <br />On GitHub, the HTML representation is unable to render, please try loading this page with nbviewer.org.</b></div><div class=\"sk-container\" hidden><div class=\"sk-item sk-dashed-wrapped\"><div class=\"sk-label-container\"><div class=\"sk-label sk-toggleable\"><input class=\"sk-toggleable__control sk-hidden--visually\" id=\"sk-estimator-id-154\" type=\"checkbox\" ><label for=\"sk-estimator-id-154\" class=\"sk-toggleable__label sk-toggleable__label-arrow\">Pipeline</label><div class=\"sk-toggleable__content\"><pre>Pipeline(steps=[(&#x27;vectorizer&#x27;,\n",
       "                 TfidfVectorizer(max_df=0.5, min_df=3,\n",
       "                                 preprocessor=&lt;function preprocessor at 0x00000292D3517D00&gt;)),\n",
       "                (&#x27;clf&#x27;,\n",
       "                 SGDClassifier(alpha=7e-05, class_weight=&#x27;balanced&#x27;,\n",
       "                               loss=&#x27;modified_huber&#x27;, random_state=42))])</pre></div></div></div><div class=\"sk-serial\"><div class=\"sk-item\"><div class=\"sk-estimator sk-toggleable\"><input class=\"sk-toggleable__control sk-hidden--visually\" id=\"sk-estimator-id-155\" type=\"checkbox\" ><label for=\"sk-estimator-id-155\" class=\"sk-toggleable__label sk-toggleable__label-arrow\">TfidfVectorizer</label><div class=\"sk-toggleable__content\"><pre>TfidfVectorizer(max_df=0.5, min_df=3,\n",
       "                preprocessor=&lt;function preprocessor at 0x00000292D3517D00&gt;)</pre></div></div></div><div class=\"sk-item\"><div class=\"sk-estimator sk-toggleable\"><input class=\"sk-toggleable__control sk-hidden--visually\" id=\"sk-estimator-id-156\" type=\"checkbox\" ><label for=\"sk-estimator-id-156\" class=\"sk-toggleable__label sk-toggleable__label-arrow\">SGDClassifier</label><div class=\"sk-toggleable__content\"><pre>SGDClassifier(alpha=7e-05, class_weight=&#x27;balanced&#x27;, loss=&#x27;modified_huber&#x27;,\n",
       "              random_state=42)</pre></div></div></div></div></div></div></div>"
      ],
      "text/plain": [
       "Pipeline(steps=[('vectorizer',\n",
       "                 TfidfVectorizer(max_df=0.5, min_df=3,\n",
       "                                 preprocessor=<function preprocessor at 0x00000292D3517D00>)),\n",
       "                ('clf',\n",
       "                 SGDClassifier(alpha=7e-05, class_weight='balanced',\n",
       "                               loss='modified_huber', random_state=42))])"
      ]
     },
     "execution_count": 842,
     "metadata": {},
     "output_type": "execute_result"
    }
   ],
   "source": [
    "url_model.fit(X_train[\"url\"], y_train)"
   ]
  },
  {
   "cell_type": "code",
   "execution_count": 843,
   "metadata": {},
   "outputs": [],
   "source": [
    "y_pred = url_model.predict(X_val[\"url\"])"
   ]
  },
  {
   "cell_type": "code",
   "execution_count": 844,
   "metadata": {},
   "outputs": [
    {
     "data": {
      "text/plain": [
       "0.814887579131194"
      ]
     },
     "execution_count": 844,
     "metadata": {},
     "output_type": "execute_result"
    }
   ],
   "source": [
    "f1_score(y_val, y_pred)"
   ]
  },
  {
   "cell_type": "code",
   "execution_count": 516,
   "metadata": {},
   "outputs": [
    {
     "data": {
      "text/plain": [
       "0.9511919160391713"
      ]
     },
     "execution_count": 516,
     "metadata": {},
     "output_type": "execute_result"
    }
   ],
   "source": [
    "f1_score(y_train, url_model.predict(X_train[\"url\"]))"
   ]
  },
  {
   "cell_type": "code",
   "execution_count": 442,
   "metadata": {},
   "outputs": [
    {
     "data": {
      "text/html": [
       "<div>\n",
       "<style scoped>\n",
       "    .dataframe tbody tr th:only-of-type {\n",
       "        vertical-align: middle;\n",
       "    }\n",
       "\n",
       "    .dataframe tbody tr th {\n",
       "        vertical-align: top;\n",
       "    }\n",
       "\n",
       "    .dataframe thead th {\n",
       "        text-align: right;\n",
       "    }\n",
       "</style>\n",
       "<table border=\"1\" class=\"dataframe\">\n",
       "  <thead>\n",
       "    <tr style=\"text-align: right;\">\n",
       "      <th></th>\n",
       "      <th>url_score</th>\n",
       "      <th>title_score</th>\n",
       "    </tr>\n",
       "  </thead>\n",
       "  <tbody>\n",
       "    <tr>\n",
       "      <th>0</th>\n",
       "      <td>0.901196</td>\n",
       "      <td>1.00000</td>\n",
       "    </tr>\n",
       "    <tr>\n",
       "      <th>1</th>\n",
       "      <td>1.000000</td>\n",
       "      <td>1.00000</td>\n",
       "    </tr>\n",
       "    <tr>\n",
       "      <th>2</th>\n",
       "      <td>0.979404</td>\n",
       "      <td>1.00000</td>\n",
       "    </tr>\n",
       "    <tr>\n",
       "      <th>3</th>\n",
       "      <td>0.938890</td>\n",
       "      <td>0.97144</td>\n",
       "    </tr>\n",
       "    <tr>\n",
       "      <th>4</th>\n",
       "      <td>1.000000</td>\n",
       "      <td>1.00000</td>\n",
       "    </tr>\n",
       "    <tr>\n",
       "      <th>...</th>\n",
       "      <td>...</td>\n",
       "      <td>...</td>\n",
       "    </tr>\n",
       "    <tr>\n",
       "      <th>101476</th>\n",
       "      <td>0.938102</td>\n",
       "      <td>1.00000</td>\n",
       "    </tr>\n",
       "    <tr>\n",
       "      <th>101477</th>\n",
       "      <td>1.000000</td>\n",
       "      <td>1.00000</td>\n",
       "    </tr>\n",
       "    <tr>\n",
       "      <th>101478</th>\n",
       "      <td>1.000000</td>\n",
       "      <td>1.00000</td>\n",
       "    </tr>\n",
       "    <tr>\n",
       "      <th>101479</th>\n",
       "      <td>1.000000</td>\n",
       "      <td>1.00000</td>\n",
       "    </tr>\n",
       "    <tr>\n",
       "      <th>101480</th>\n",
       "      <td>1.000000</td>\n",
       "      <td>1.00000</td>\n",
       "    </tr>\n",
       "  </tbody>\n",
       "</table>\n",
       "<p>101481 rows × 2 columns</p>\n",
       "</div>"
      ],
      "text/plain": [
       "        url_score  title_score\n",
       "0        0.901196      1.00000\n",
       "1        1.000000      1.00000\n",
       "2        0.979404      1.00000\n",
       "3        0.938890      0.97144\n",
       "4        1.000000      1.00000\n",
       "...           ...          ...\n",
       "101476   0.938102      1.00000\n",
       "101477   1.000000      1.00000\n",
       "101478   1.000000      1.00000\n",
       "101479   1.000000      1.00000\n",
       "101480   1.000000      1.00000\n",
       "\n",
       "[101481 rows x 2 columns]"
      ]
     },
     "execution_count": 442,
     "metadata": {},
     "output_type": "execute_result"
    }
   ],
   "source": [
    "X_train"
   ]
  },
  {
   "cell_type": "code",
   "execution_count": null,
   "metadata": {},
   "outputs": [],
   "source": [
    "# k-Neighbors Classifier\n",
    "# Support Vector Machines\n",
    "# Decision Tree Classifier\n",
    "# Random Forest Classifier\n",
    "# Gradient Boosting Classifier\n",
    "# Logistic Regression\n",
    "# Naive Bayes Classifier\n",
    "# Neural Network Classifier\n",
    "# Linear Discriminant Analysis Classifier\n",
    "# Quadratic Discriminant Analysis Classifier"
   ]
  },
  {
   "cell_type": "code",
   "execution_count": 344,
   "metadata": {},
   "outputs": [],
   "source": [
    "from sklearn.neighbors import KNeighborsClassifier\n",
    "from sklearn.ensemble import GradientBoostingClassifier\n",
    "from sklearn.naive_bayes import GaussianNB\n",
    "from sklearn.neural_network import MLPClassifier\n",
    "from sklearn.discriminant_analysis import LinearDiscriminantAnalysis"
   ]
  },
  {
   "cell_type": "code",
   "execution_count": 517,
   "metadata": {},
   "outputs": [
    {
     "data": {
      "text/html": [
       "<div>\n",
       "<style scoped>\n",
       "    .dataframe tbody tr th:only-of-type {\n",
       "        vertical-align: middle;\n",
       "    }\n",
       "\n",
       "    .dataframe tbody tr th {\n",
       "        vertical-align: top;\n",
       "    }\n",
       "\n",
       "    .dataframe thead th {\n",
       "        text-align: right;\n",
       "    }\n",
       "</style>\n",
       "<table border=\"1\" class=\"dataframe\">\n",
       "  <thead>\n",
       "    <tr style=\"text-align: right;\">\n",
       "      <th></th>\n",
       "      <th>url</th>\n",
       "      <th>title</th>\n",
       "      <th>title_clear</th>\n",
       "      <th>title_words</th>\n",
       "      <th>title_coll</th>\n",
       "    </tr>\n",
       "  </thead>\n",
       "  <tbody>\n",
       "    <tr>\n",
       "      <th>0</th>\n",
       "      <td>m.kp.md</td>\n",
       "      <td>Экс-министр экономики Молдовы - главе МИДЭИ, ц...</td>\n",
       "      <td>экс министр экономика молдова глава мидэя цель...</td>\n",
       "      <td>[экс, министр, экономика, молдова, глава, мидэ...</td>\n",
       "      <td>[экс, министр, экономика, молдова, глава, мидэ...</td>\n",
       "    </tr>\n",
       "    <tr>\n",
       "      <th>1</th>\n",
       "      <td>www.kp.by</td>\n",
       "      <td>Эта песня стала известна многим телезрителям б...</td>\n",
       "      <td>песня стать известный многий телезритель благо...</td>\n",
       "      <td>[песня, стать, известный, многий, телезритель,...</td>\n",
       "      <td>[песня, стать_известный, многий, телезритель, ...</td>\n",
       "    </tr>\n",
       "    <tr>\n",
       "      <th>2</th>\n",
       "      <td>fanserials.tv</td>\n",
       "      <td>Банши 4 сезон 2 серия Бремя красоты смотреть о...</td>\n",
       "      <td>банша сезон серия бремя красота смотреть онлайн</td>\n",
       "      <td>[банша, сезон, серия, бремя, красота, смотреть...</td>\n",
       "      <td>[банша, сезон_серия, бремя, красота_смотреть, ...</td>\n",
       "    </tr>\n",
       "    <tr>\n",
       "      <th>3</th>\n",
       "      <td>colorbox.spb.ru</td>\n",
       "      <td>Не Беси Меня Картинки</td>\n",
       "      <td>бесить картинка</td>\n",
       "      <td>[бесить, картинка]</td>\n",
       "      <td>[бесить, картинка]</td>\n",
       "    </tr>\n",
       "    <tr>\n",
       "      <th>4</th>\n",
       "      <td>tula-sport.ru</td>\n",
       "      <td>В Новомосковске сыграют следж-хоккеисты алекси...</td>\n",
       "      <td>новомосковск сыграть следж хоккеист алексински...</td>\n",
       "      <td>[новомосковск, сыграть, следж, хоккеист, алекс...</td>\n",
       "      <td>[новомосковск, сыграть, следж, хоккеист, алекс...</td>\n",
       "    </tr>\n",
       "    <tr>\n",
       "      <th>...</th>\n",
       "      <td>...</td>\n",
       "      <td>...</td>\n",
       "      <td>...</td>\n",
       "      <td>...</td>\n",
       "      <td>...</td>\n",
       "    </tr>\n",
       "    <tr>\n",
       "      <th>101476</th>\n",
       "      <td>medbrowse.com.ua</td>\n",
       "      <td>НЕФРОФІТ 100 цена и наличие в аптеках Черкасс,...</td>\n",
       "      <td>нефрофа цена наличие аптека черкассы купить не...</td>\n",
       "      <td>[нефрофа, цена, наличие, аптека, черкассы, куп...</td>\n",
       "      <td>[нефрофа, цена_наличие, наличие_аптека, черкас...</td>\n",
       "    </tr>\n",
       "    <tr>\n",
       "      <th>101477</th>\n",
       "      <td>manga-online.biz</td>\n",
       "      <td>Читать мангу Данганронпа Гайден: Убийца убийц ...</td>\n",
       "      <td>читать манга данганронп гайден убийца убийца г...</td>\n",
       "      <td>[читать, манга, данганронп, гайден, убийца, уб...</td>\n",
       "      <td>[читать_манга, данганронп, гайден, убийца_убий...</td>\n",
       "    </tr>\n",
       "    <tr>\n",
       "      <th>101478</th>\n",
       "      <td>podarok52.ru</td>\n",
       "      <td>Фоторамки багет пластик — Каталог — Страница 2...</td>\n",
       "      <td>фоторамка багет пластик каталог страница подар...</td>\n",
       "      <td>[фоторамка, багет, пластик, каталог, страница,...</td>\n",
       "      <td>[фоторамка, багет, пластик, каталог_страница, ...</td>\n",
       "    </tr>\n",
       "    <tr>\n",
       "      <th>101479</th>\n",
       "      <td>www.warandpeace.ru</td>\n",
       "      <td>Польский гонор и русская честь - ВОЙНА и МИР</td>\n",
       "      <td>польский гонор русский честь война мир</td>\n",
       "      <td>[польский, гонор, русский, честь, война, мир]</td>\n",
       "      <td>[польский, гонор, русский, честь, война_мир]</td>\n",
       "    </tr>\n",
       "    <tr>\n",
       "      <th>101480</th>\n",
       "      <td>xn----8sbafptnige1b6a4m.xn--p1ai</td>\n",
       "      <td>Дренажная помпа Aspen Mini Aqua Silent: продаж...</td>\n",
       "      <td>дренажный помпа aspen mini aqua silent продажа...</td>\n",
       "      <td>[дренажный, помпа, aspen, mini, aqua, silent, ...</td>\n",
       "      <td>[дренажный, помпа, aspen, mini, aqua, silent, ...</td>\n",
       "    </tr>\n",
       "  </tbody>\n",
       "</table>\n",
       "<p>101481 rows × 5 columns</p>\n",
       "</div>"
      ],
      "text/plain": [
       "                                     url  \\\n",
       "0                                m.kp.md   \n",
       "1                              www.kp.by   \n",
       "2                          fanserials.tv   \n",
       "3                        colorbox.spb.ru   \n",
       "4                          tula-sport.ru   \n",
       "...                                  ...   \n",
       "101476                  medbrowse.com.ua   \n",
       "101477                  manga-online.biz   \n",
       "101478                      podarok52.ru   \n",
       "101479                www.warandpeace.ru   \n",
       "101480  xn----8sbafptnige1b6a4m.xn--p1ai   \n",
       "\n",
       "                                                    title  \\\n",
       "0       Экс-министр экономики Молдовы - главе МИДЭИ, ц...   \n",
       "1       Эта песня стала известна многим телезрителям б...   \n",
       "2       Банши 4 сезон 2 серия Бремя красоты смотреть о...   \n",
       "3                                   Не Беси Меня Картинки   \n",
       "4       В Новомосковске сыграют следж-хоккеисты алекси...   \n",
       "...                                                   ...   \n",
       "101476  НЕФРОФІТ 100 цена и наличие в аптеках Черкасс,...   \n",
       "101477  Читать мангу Данганронпа Гайден: Убийца убийц ...   \n",
       "101478  Фоторамки багет пластик — Каталог — Страница 2...   \n",
       "101479       Польский гонор и русская честь - ВОЙНА и МИР   \n",
       "101480  Дренажная помпа Aspen Mini Aqua Silent: продаж...   \n",
       "\n",
       "                                              title_clear  \\\n",
       "0       экс министр экономика молдова глава мидэя цель...   \n",
       "1       песня стать известный многий телезритель благо...   \n",
       "2         банша сезон серия бремя красота смотреть онлайн   \n",
       "3                                         бесить картинка   \n",
       "4       новомосковск сыграть следж хоккеист алексински...   \n",
       "...                                                   ...   \n",
       "101476  нефрофа цена наличие аптека черкассы купить не...   \n",
       "101477  читать манга данганронп гайден убийца убийца г...   \n",
       "101478  фоторамка багет пластик каталог страница подар...   \n",
       "101479             польский гонор русский честь война мир   \n",
       "101480  дренажный помпа aspen mini aqua silent продажа...   \n",
       "\n",
       "                                              title_words  \\\n",
       "0       [экс, министр, экономика, молдова, глава, мидэ...   \n",
       "1       [песня, стать, известный, многий, телезритель,...   \n",
       "2       [банша, сезон, серия, бремя, красота, смотреть...   \n",
       "3                                      [бесить, картинка]   \n",
       "4       [новомосковск, сыграть, следж, хоккеист, алекс...   \n",
       "...                                                   ...   \n",
       "101476  [нефрофа, цена, наличие, аптека, черкассы, куп...   \n",
       "101477  [читать, манга, данганронп, гайден, убийца, уб...   \n",
       "101478  [фоторамка, багет, пластик, каталог, страница,...   \n",
       "101479      [польский, гонор, русский, честь, война, мир]   \n",
       "101480  [дренажный, помпа, aspen, mini, aqua, silent, ...   \n",
       "\n",
       "                                               title_coll  \n",
       "0       [экс, министр, экономика, молдова, глава, мидэ...  \n",
       "1       [песня, стать_известный, многий, телезритель, ...  \n",
       "2       [банша, сезон_серия, бремя, красота_смотреть, ...  \n",
       "3                                      [бесить, картинка]  \n",
       "4       [новомосковск, сыграть, следж, хоккеист, алекс...  \n",
       "...                                                   ...  \n",
       "101476  [нефрофа, цена_наличие, наличие_аптека, черкас...  \n",
       "101477  [читать_манга, данганронп, гайден, убийца_убий...  \n",
       "101478  [фоторамка, багет, пластик, каталог_страница, ...  \n",
       "101479       [польский, гонор, русский, честь, война_мир]  \n",
       "101480  [дренажный, помпа, aspen, mini, aqua, silent, ...  \n",
       "\n",
       "[101481 rows x 5 columns]"
      ]
     },
     "execution_count": 517,
     "metadata": {},
     "output_type": "execute_result"
    }
   ],
   "source": [
    "X_train"
   ]
  },
  {
   "cell_type": "code",
   "execution_count": 118,
   "metadata": {},
   "outputs": [],
   "source": [
    "vec_size = 300"
   ]
  },
  {
   "cell_type": "code",
   "execution_count": 120,
   "metadata": {},
   "outputs": [],
   "source": [
    "word2vec = gensim.models.Word2Vec(\n",
    "    vector_size=vec_size, sg=0, window=5, min_count=3\n",
    ")"
   ]
  },
  {
   "cell_type": "code",
   "execution_count": 122,
   "metadata": {},
   "outputs": [],
   "source": [
    "word2vec.build_vocab(X_train[\"title_words\"], keep_raw_vocab=True)"
   ]
  },
  {
   "cell_type": "code",
   "execution_count": 123,
   "metadata": {},
   "outputs": [
    {
     "data": {
      "text/plain": [
       "(19900377, 23824950)"
      ]
     },
     "execution_count": 123,
     "metadata": {},
     "output_type": "execute_result"
    }
   ],
   "source": [
    "word2vec.train(X_train[\"title_words\"], total_examples=word2vec.corpus_count, epochs=30)"
   ]
  },
  {
   "cell_type": "code",
   "execution_count": 133,
   "metadata": {},
   "outputs": [
    {
     "data": {
      "text/plain": [
       "[('оргазм', 0.6685698628425598),\n",
       " ('рогоносец', 0.6149997711181641),\n",
       " ('молоденький', 0.6067529916763306),\n",
       " ('порнозвезда', 0.5997006297111511),\n",
       " ('сквирт', 0.5875810384750366),\n",
       " ('вебкамера', 0.5826252102851868),\n",
       " ('рвать', 0.5797131657600403),\n",
       " ('porus', 0.5784225463867188),\n",
       " ('проникновение', 0.5782161951065063),\n",
       " ('страстный', 0.577751636505127)]"
      ]
     },
     "execution_count": 133,
     "metadata": {},
     "output_type": "execute_result"
    }
   ],
   "source": [
    "word2vec.wv.most_similar(\"мастурбация страница\".split())"
   ]
  },
  {
   "cell_type": "code",
   "execution_count": 134,
   "metadata": {},
   "outputs": [],
   "source": [
    "def list_to_vec(words_list):\n",
    "    known_words = 0\n",
    "    vec = np.array([0] * vec_size)\n",
    "    if not len(words_list):\n",
    "        return vec\n",
    "    for word in words_list:\n",
    "        try:\n",
    "            v = word2vec.wv.get_vector(word)\n",
    "            vec = vec + v\n",
    "            known_words += 1\n",
    "        except:\n",
    "            continue\n",
    "    if known_words == 0:\n",
    "        return vec\n",
    "    return vec / known_words"
   ]
  },
  {
   "cell_type": "code",
   "execution_count": 153,
   "metadata": {},
   "outputs": [],
   "source": [
    "def get_similar_words(word):\n",
    "    try:\n",
    "        return [sim for sim, poss in word2vec.wv.most_similar(word, topn=3) if poss > 0.6]\n",
    "    except:\n",
    "        return []"
   ]
  },
  {
   "cell_type": "code",
   "execution_count": null,
   "metadata": {},
   "outputs": [],
   "source": [
    "def get_new_text(text):\n",
    "    new_words = []\n",
    "    text = text.split()\n",
    "    [for word in text.split() for v in list_to_vec(word.split(), 4) if ]"
   ]
  },
  {
   "cell_type": "code",
   "execution_count": 151,
   "metadata": {},
   "outputs": [],
   "source": [
    "v = list_to_vec(\"мастурбация\".split())"
   ]
  },
  {
   "cell_type": "code",
   "execution_count": 152,
   "metadata": {},
   "outputs": [
    {
     "data": {
      "text/plain": [
       "[('мастурбация', 0.9999999403953552),\n",
       " ('сквирт', 0.8152335286140442),\n",
       " ('оргазм', 0.7998698353767395),\n",
       " ('чпокаяться', 0.7878572940826416),\n",
       " ('дрочко', 0.7782406806945801),\n",
       " ('толстушка', 0.7712351083755493),\n",
       " ('дилдый', 0.7705534100532532),\n",
       " ('мастурбировать', 0.7652242183685303),\n",
       " ('дрочки', 0.7635612487792969),\n",
       " ('волосатый', 0.7629032731056213)]"
      ]
     },
     "execution_count": 152,
     "metadata": {},
     "output_type": "execute_result"
    }
   ],
   "source": [
    "word2vec.wv.most_similar(v)"
   ]
  },
  {
   "cell_type": "code",
   "execution_count": 622,
   "metadata": {},
   "outputs": [],
   "source": [
    "def into_pairs(words):\n",
    "    return [words[i] + '_' + words[i+1] for i in range(len(words)-1)]"
   ]
  },
  {
   "cell_type": "code",
   "execution_count": 623,
   "metadata": {},
   "outputs": [],
   "source": [
    "X[\"title_w2v\"] = X[\"title_coll\"].apply(list_to_vec)"
   ]
  },
  {
   "cell_type": "code",
   "execution_count": 624,
   "metadata": {},
   "outputs": [],
   "source": [
    "X_train, X_val, y_train, y_val = train_test_split(X, y, train_size=0.75, random_state=SEED, shuffle=False)"
   ]
  },
  {
   "cell_type": "code",
   "execution_count": 626,
   "metadata": {},
   "outputs": [],
   "source": [
    "from sklearn.neighbors import KNeighborsClassifier"
   ]
  },
  {
   "cell_type": "code",
   "execution_count": 660,
   "metadata": {},
   "outputs": [],
   "source": [
    "def linear_weights(distance):\n",
    "    k = distance.shape[1]\n",
    "    return ((k - np.arange(0, k))/k) * np.ones_like(distance)"
   ]
  },
  {
   "cell_type": "code",
   "execution_count": 674,
   "metadata": {},
   "outputs": [],
   "source": [
    "w2v_model = KNeighborsClassifier(n_neighbors=5, weights=linear_weights)"
   ]
  },
  {
   "cell_type": "code",
   "execution_count": 675,
   "metadata": {},
   "outputs": [
    {
     "data": {
      "text/html": [
       "<style>#sk-container-id-86 {color: black;background-color: white;}#sk-container-id-86 pre{padding: 0;}#sk-container-id-86 div.sk-toggleable {background-color: white;}#sk-container-id-86 label.sk-toggleable__label {cursor: pointer;display: block;width: 100%;margin-bottom: 0;padding: 0.3em;box-sizing: border-box;text-align: center;}#sk-container-id-86 label.sk-toggleable__label-arrow:before {content: \"▸\";float: left;margin-right: 0.25em;color: #696969;}#sk-container-id-86 label.sk-toggleable__label-arrow:hover:before {color: black;}#sk-container-id-86 div.sk-estimator:hover label.sk-toggleable__label-arrow:before {color: black;}#sk-container-id-86 div.sk-toggleable__content {max-height: 0;max-width: 0;overflow: hidden;text-align: left;background-color: #f0f8ff;}#sk-container-id-86 div.sk-toggleable__content pre {margin: 0.2em;color: black;border-radius: 0.25em;background-color: #f0f8ff;}#sk-container-id-86 input.sk-toggleable__control:checked~div.sk-toggleable__content {max-height: 200px;max-width: 100%;overflow: auto;}#sk-container-id-86 input.sk-toggleable__control:checked~label.sk-toggleable__label-arrow:before {content: \"▾\";}#sk-container-id-86 div.sk-estimator input.sk-toggleable__control:checked~label.sk-toggleable__label {background-color: #d4ebff;}#sk-container-id-86 div.sk-label input.sk-toggleable__control:checked~label.sk-toggleable__label {background-color: #d4ebff;}#sk-container-id-86 input.sk-hidden--visually {border: 0;clip: rect(1px 1px 1px 1px);clip: rect(1px, 1px, 1px, 1px);height: 1px;margin: -1px;overflow: hidden;padding: 0;position: absolute;width: 1px;}#sk-container-id-86 div.sk-estimator {font-family: monospace;background-color: #f0f8ff;border: 1px dotted black;border-radius: 0.25em;box-sizing: border-box;margin-bottom: 0.5em;}#sk-container-id-86 div.sk-estimator:hover {background-color: #d4ebff;}#sk-container-id-86 div.sk-parallel-item::after {content: \"\";width: 100%;border-bottom: 1px solid gray;flex-grow: 1;}#sk-container-id-86 div.sk-label:hover label.sk-toggleable__label {background-color: #d4ebff;}#sk-container-id-86 div.sk-serial::before {content: \"\";position: absolute;border-left: 1px solid gray;box-sizing: border-box;top: 0;bottom: 0;left: 50%;z-index: 0;}#sk-container-id-86 div.sk-serial {display: flex;flex-direction: column;align-items: center;background-color: white;padding-right: 0.2em;padding-left: 0.2em;position: relative;}#sk-container-id-86 div.sk-item {position: relative;z-index: 1;}#sk-container-id-86 div.sk-parallel {display: flex;align-items: stretch;justify-content: center;background-color: white;position: relative;}#sk-container-id-86 div.sk-item::before, #sk-container-id-86 div.sk-parallel-item::before {content: \"\";position: absolute;border-left: 1px solid gray;box-sizing: border-box;top: 0;bottom: 0;left: 50%;z-index: -1;}#sk-container-id-86 div.sk-parallel-item {display: flex;flex-direction: column;z-index: 1;position: relative;background-color: white;}#sk-container-id-86 div.sk-parallel-item:first-child::after {align-self: flex-end;width: 50%;}#sk-container-id-86 div.sk-parallel-item:last-child::after {align-self: flex-start;width: 50%;}#sk-container-id-86 div.sk-parallel-item:only-child::after {width: 0;}#sk-container-id-86 div.sk-dashed-wrapped {border: 1px dashed gray;margin: 0 0.4em 0.5em 0.4em;box-sizing: border-box;padding-bottom: 0.4em;background-color: white;}#sk-container-id-86 div.sk-label label {font-family: monospace;font-weight: bold;display: inline-block;line-height: 1.2em;}#sk-container-id-86 div.sk-label-container {text-align: center;}#sk-container-id-86 div.sk-container {/* jupyter's `normalize.less` sets `[hidden] { display: none; }` but bootstrap.min.css set `[hidden] { display: none !important; }` so we also need the `!important` here to be able to override the default hidden behavior on the sphinx rendered scikit-learn.org. See: https://github.com/scikit-learn/scikit-learn/issues/21755 */display: inline-block !important;position: relative;}#sk-container-id-86 div.sk-text-repr-fallback {display: none;}</style><div id=\"sk-container-id-86\" class=\"sk-top-container\"><div class=\"sk-text-repr-fallback\"><pre>KNeighborsClassifier(weights=&lt;function linear_weights at 0x000002932A7385E0&gt;)</pre><b>In a Jupyter environment, please rerun this cell to show the HTML representation or trust the notebook. <br />On GitHub, the HTML representation is unable to render, please try loading this page with nbviewer.org.</b></div><div class=\"sk-container\" hidden><div class=\"sk-item\"><div class=\"sk-estimator sk-toggleable\"><input class=\"sk-toggleable__control sk-hidden--visually\" id=\"sk-estimator-id-120\" type=\"checkbox\" checked><label for=\"sk-estimator-id-120\" class=\"sk-toggleable__label sk-toggleable__label-arrow\">KNeighborsClassifier</label><div class=\"sk-toggleable__content\"><pre>KNeighborsClassifier(weights=&lt;function linear_weights at 0x000002932A7385E0&gt;)</pre></div></div></div></div></div>"
      ],
      "text/plain": [
       "KNeighborsClassifier(weights=<function linear_weights at 0x000002932A7385E0>)"
      ]
     },
     "execution_count": 675,
     "metadata": {},
     "output_type": "execute_result"
    }
   ],
   "source": [
    "w2v_model.fit(np.vstack(X_train[\"title_w2v\"]), y_train)"
   ]
  },
  {
   "cell_type": "code",
   "execution_count": 676,
   "metadata": {},
   "outputs": [],
   "source": [
    "pred = w2v_model.predict(np.vstack(X_val[\"title_w2v\"]))"
   ]
  },
  {
   "cell_type": "code",
   "execution_count": 677,
   "metadata": {},
   "outputs": [
    {
     "data": {
      "text/plain": [
       "0.9300758213984835"
      ]
     },
     "execution_count": 677,
     "metadata": {},
     "output_type": "execute_result"
    }
   ],
   "source": [
    "f1_score(y_val, pred)"
   ]
  },
  {
   "cell_type": "code",
   "execution_count": 694,
   "metadata": {},
   "outputs": [],
   "source": [
    "X[\"w2v_score\"] = w2v_model.predict_proba(np.vstack(X[\"title_w2v\"]))[:, 0]"
   ]
  },
  {
   "cell_type": "code",
   "execution_count": 830,
   "metadata": {},
   "outputs": [],
   "source": [
    "X[\"url_score\"] = url_model.predict_proba(X[\"url\"])[:, 0]"
   ]
  },
  {
   "cell_type": "code",
   "execution_count": 697,
   "metadata": {},
   "outputs": [],
   "source": [
    "X[\"title_score\"] = title_model.predict_proba(X[\"title_clear\"])[:, 0]"
   ]
  },
  {
   "cell_type": "code",
   "execution_count": 831,
   "metadata": {},
   "outputs": [],
   "source": [
    "X_train, X_val, y_train, y_val = train_test_split(X[[\"url_score\", \"title_score\", \"w2v_score\"]], y, train_size=0.75, \n",
    "                                                  random_state=SEED, shuffle=False)"
   ]
  },
  {
   "cell_type": "code",
   "execution_count": 836,
   "metadata": {},
   "outputs": [],
   "source": [
    "main_clf = SGDClassifier(random_state=SEED, loss='modified_huber', class_weight='balanced', alpha=0.00007)\n",
    "# main_clf = LogisticRegression()\n",
    "# main_clf = GradientBoostingClassifier()\n",
    "# main_clf = MLPClassifier(alpha=0.00006)\n"
   ]
  },
  {
   "cell_type": "code",
   "execution_count": 837,
   "metadata": {},
   "outputs": [
    {
     "data": {
      "text/html": [
       "<style>#sk-container-id-117 {color: black;background-color: white;}#sk-container-id-117 pre{padding: 0;}#sk-container-id-117 div.sk-toggleable {background-color: white;}#sk-container-id-117 label.sk-toggleable__label {cursor: pointer;display: block;width: 100%;margin-bottom: 0;padding: 0.3em;box-sizing: border-box;text-align: center;}#sk-container-id-117 label.sk-toggleable__label-arrow:before {content: \"▸\";float: left;margin-right: 0.25em;color: #696969;}#sk-container-id-117 label.sk-toggleable__label-arrow:hover:before {color: black;}#sk-container-id-117 div.sk-estimator:hover label.sk-toggleable__label-arrow:before {color: black;}#sk-container-id-117 div.sk-toggleable__content {max-height: 0;max-width: 0;overflow: hidden;text-align: left;background-color: #f0f8ff;}#sk-container-id-117 div.sk-toggleable__content pre {margin: 0.2em;color: black;border-radius: 0.25em;background-color: #f0f8ff;}#sk-container-id-117 input.sk-toggleable__control:checked~div.sk-toggleable__content {max-height: 200px;max-width: 100%;overflow: auto;}#sk-container-id-117 input.sk-toggleable__control:checked~label.sk-toggleable__label-arrow:before {content: \"▾\";}#sk-container-id-117 div.sk-estimator input.sk-toggleable__control:checked~label.sk-toggleable__label {background-color: #d4ebff;}#sk-container-id-117 div.sk-label input.sk-toggleable__control:checked~label.sk-toggleable__label {background-color: #d4ebff;}#sk-container-id-117 input.sk-hidden--visually {border: 0;clip: rect(1px 1px 1px 1px);clip: rect(1px, 1px, 1px, 1px);height: 1px;margin: -1px;overflow: hidden;padding: 0;position: absolute;width: 1px;}#sk-container-id-117 div.sk-estimator {font-family: monospace;background-color: #f0f8ff;border: 1px dotted black;border-radius: 0.25em;box-sizing: border-box;margin-bottom: 0.5em;}#sk-container-id-117 div.sk-estimator:hover {background-color: #d4ebff;}#sk-container-id-117 div.sk-parallel-item::after {content: \"\";width: 100%;border-bottom: 1px solid gray;flex-grow: 1;}#sk-container-id-117 div.sk-label:hover label.sk-toggleable__label {background-color: #d4ebff;}#sk-container-id-117 div.sk-serial::before {content: \"\";position: absolute;border-left: 1px solid gray;box-sizing: border-box;top: 0;bottom: 0;left: 50%;z-index: 0;}#sk-container-id-117 div.sk-serial {display: flex;flex-direction: column;align-items: center;background-color: white;padding-right: 0.2em;padding-left: 0.2em;position: relative;}#sk-container-id-117 div.sk-item {position: relative;z-index: 1;}#sk-container-id-117 div.sk-parallel {display: flex;align-items: stretch;justify-content: center;background-color: white;position: relative;}#sk-container-id-117 div.sk-item::before, #sk-container-id-117 div.sk-parallel-item::before {content: \"\";position: absolute;border-left: 1px solid gray;box-sizing: border-box;top: 0;bottom: 0;left: 50%;z-index: -1;}#sk-container-id-117 div.sk-parallel-item {display: flex;flex-direction: column;z-index: 1;position: relative;background-color: white;}#sk-container-id-117 div.sk-parallel-item:first-child::after {align-self: flex-end;width: 50%;}#sk-container-id-117 div.sk-parallel-item:last-child::after {align-self: flex-start;width: 50%;}#sk-container-id-117 div.sk-parallel-item:only-child::after {width: 0;}#sk-container-id-117 div.sk-dashed-wrapped {border: 1px dashed gray;margin: 0 0.4em 0.5em 0.4em;box-sizing: border-box;padding-bottom: 0.4em;background-color: white;}#sk-container-id-117 div.sk-label label {font-family: monospace;font-weight: bold;display: inline-block;line-height: 1.2em;}#sk-container-id-117 div.sk-label-container {text-align: center;}#sk-container-id-117 div.sk-container {/* jupyter's `normalize.less` sets `[hidden] { display: none; }` but bootstrap.min.css set `[hidden] { display: none !important; }` so we also need the `!important` here to be able to override the default hidden behavior on the sphinx rendered scikit-learn.org. See: https://github.com/scikit-learn/scikit-learn/issues/21755 */display: inline-block !important;position: relative;}#sk-container-id-117 div.sk-text-repr-fallback {display: none;}</style><div id=\"sk-container-id-117\" class=\"sk-top-container\"><div class=\"sk-text-repr-fallback\"><pre>SGDClassifier(alpha=7e-05, class_weight=&#x27;balanced&#x27;, loss=&#x27;modified_huber&#x27;,\n",
       "              random_state=42)</pre><b>In a Jupyter environment, please rerun this cell to show the HTML representation or trust the notebook. <br />On GitHub, the HTML representation is unable to render, please try loading this page with nbviewer.org.</b></div><div class=\"sk-container\" hidden><div class=\"sk-item\"><div class=\"sk-estimator sk-toggleable\"><input class=\"sk-toggleable__control sk-hidden--visually\" id=\"sk-estimator-id-153\" type=\"checkbox\" checked><label for=\"sk-estimator-id-153\" class=\"sk-toggleable__label sk-toggleable__label-arrow\">SGDClassifier</label><div class=\"sk-toggleable__content\"><pre>SGDClassifier(alpha=7e-05, class_weight=&#x27;balanced&#x27;, loss=&#x27;modified_huber&#x27;,\n",
       "              random_state=42)</pre></div></div></div></div></div>"
      ],
      "text/plain": [
       "SGDClassifier(alpha=7e-05, class_weight='balanced', loss='modified_huber',\n",
       "              random_state=42)"
      ]
     },
     "execution_count": 837,
     "metadata": {},
     "output_type": "execute_result"
    }
   ],
   "source": [
    "main_clf.fit(X_train, y_train)"
   ]
  },
  {
   "cell_type": "code",
   "execution_count": 838,
   "metadata": {},
   "outputs": [],
   "source": [
    "y_pred = main_clf.predict(X_val)"
   ]
  },
  {
   "cell_type": "code",
   "execution_count": 839,
   "metadata": {},
   "outputs": [
    {
     "data": {
      "text/plain": [
       "0.9782019559326028"
      ]
     },
     "execution_count": 839,
     "metadata": {},
     "output_type": "execute_result"
    }
   ],
   "source": [
    "f1_score(y_val, y_pred)"
   ]
  },
  {
   "cell_type": "code",
   "execution_count": null,
   "metadata": {},
   "outputs": [],
   "source": []
  },
  {
   "cell_type": "code",
   "execution_count": 700,
   "metadata": {},
   "outputs": [
    {
     "data": {
      "text/html": [
       "<div>\n",
       "<style scoped>\n",
       "    .dataframe tbody tr th:only-of-type {\n",
       "        vertical-align: middle;\n",
       "    }\n",
       "\n",
       "    .dataframe tbody tr th {\n",
       "        vertical-align: top;\n",
       "    }\n",
       "\n",
       "    .dataframe thead th {\n",
       "        text-align: right;\n",
       "    }\n",
       "</style>\n",
       "<table border=\"1\" class=\"dataframe\">\n",
       "  <thead>\n",
       "    <tr style=\"text-align: right;\">\n",
       "      <th></th>\n",
       "      <th>url_score</th>\n",
       "      <th>title_score</th>\n",
       "      <th>w2v_score</th>\n",
       "    </tr>\n",
       "  </thead>\n",
       "  <tbody>\n",
       "    <tr>\n",
       "      <th>0</th>\n",
       "      <td>0.901196</td>\n",
       "      <td>1.00000</td>\n",
       "      <td>1.000000</td>\n",
       "    </tr>\n",
       "    <tr>\n",
       "      <th>1</th>\n",
       "      <td>1.000000</td>\n",
       "      <td>1.00000</td>\n",
       "      <td>0.866667</td>\n",
       "    </tr>\n",
       "    <tr>\n",
       "      <th>2</th>\n",
       "      <td>0.979404</td>\n",
       "      <td>1.00000</td>\n",
       "      <td>1.000000</td>\n",
       "    </tr>\n",
       "    <tr>\n",
       "      <th>3</th>\n",
       "      <td>0.938890</td>\n",
       "      <td>0.97144</td>\n",
       "      <td>1.000000</td>\n",
       "    </tr>\n",
       "    <tr>\n",
       "      <th>4</th>\n",
       "      <td>1.000000</td>\n",
       "      <td>1.00000</td>\n",
       "      <td>1.000000</td>\n",
       "    </tr>\n",
       "    <tr>\n",
       "      <th>...</th>\n",
       "      <td>...</td>\n",
       "      <td>...</td>\n",
       "      <td>...</td>\n",
       "    </tr>\n",
       "    <tr>\n",
       "      <th>101476</th>\n",
       "      <td>0.938102</td>\n",
       "      <td>1.00000</td>\n",
       "      <td>1.000000</td>\n",
       "    </tr>\n",
       "    <tr>\n",
       "      <th>101477</th>\n",
       "      <td>1.000000</td>\n",
       "      <td>1.00000</td>\n",
       "      <td>1.000000</td>\n",
       "    </tr>\n",
       "    <tr>\n",
       "      <th>101478</th>\n",
       "      <td>1.000000</td>\n",
       "      <td>1.00000</td>\n",
       "      <td>1.000000</td>\n",
       "    </tr>\n",
       "    <tr>\n",
       "      <th>101479</th>\n",
       "      <td>1.000000</td>\n",
       "      <td>1.00000</td>\n",
       "      <td>1.000000</td>\n",
       "    </tr>\n",
       "    <tr>\n",
       "      <th>101480</th>\n",
       "      <td>1.000000</td>\n",
       "      <td>1.00000</td>\n",
       "      <td>1.000000</td>\n",
       "    </tr>\n",
       "  </tbody>\n",
       "</table>\n",
       "<p>101481 rows × 3 columns</p>\n",
       "</div>"
      ],
      "text/plain": [
       "        url_score  title_score  w2v_score\n",
       "0        0.901196      1.00000   1.000000\n",
       "1        1.000000      1.00000   0.866667\n",
       "2        0.979404      1.00000   1.000000\n",
       "3        0.938890      0.97144   1.000000\n",
       "4        1.000000      1.00000   1.000000\n",
       "...           ...          ...        ...\n",
       "101476   0.938102      1.00000   1.000000\n",
       "101477   1.000000      1.00000   1.000000\n",
       "101478   1.000000      1.00000   1.000000\n",
       "101479   1.000000      1.00000   1.000000\n",
       "101480   1.000000      1.00000   1.000000\n",
       "\n",
       "[101481 rows x 3 columns]"
      ]
     },
     "execution_count": 700,
     "metadata": {},
     "output_type": "execute_result"
    }
   ],
   "source": []
  },
  {
   "cell_type": "code",
   "execution_count": null,
   "metadata": {},
   "outputs": [],
   "source": [
    "# main_clf = SGDClassifier(random_state=SEED, loss='log', class_weight='balanced', alpha=0.00007)\n",
    "# main_clf = LogisticRegression(tol=0.001)\n",
    "# main_clf =`` GradientBoostingClassifier()\n",
    "main_clf = MLPClassifier(alpha=0.00006)\n"
   ]
  },
  {
   "cell_type": "code",
   "execution_count": null,
   "metadata": {},
   "outputs": [
    {
     "data": {
      "text/html": [
       "<style>#sk-container-id-71 {color: black;background-color: white;}#sk-container-id-71 pre{padding: 0;}#sk-container-id-71 div.sk-toggleable {background-color: white;}#sk-container-id-71 label.sk-toggleable__label {cursor: pointer;display: block;width: 100%;margin-bottom: 0;padding: 0.3em;box-sizing: border-box;text-align: center;}#sk-container-id-71 label.sk-toggleable__label-arrow:before {content: \"▸\";float: left;margin-right: 0.25em;color: #696969;}#sk-container-id-71 label.sk-toggleable__label-arrow:hover:before {color: black;}#sk-container-id-71 div.sk-estimator:hover label.sk-toggleable__label-arrow:before {color: black;}#sk-container-id-71 div.sk-toggleable__content {max-height: 0;max-width: 0;overflow: hidden;text-align: left;background-color: #f0f8ff;}#sk-container-id-71 div.sk-toggleable__content pre {margin: 0.2em;color: black;border-radius: 0.25em;background-color: #f0f8ff;}#sk-container-id-71 input.sk-toggleable__control:checked~div.sk-toggleable__content {max-height: 200px;max-width: 100%;overflow: auto;}#sk-container-id-71 input.sk-toggleable__control:checked~label.sk-toggleable__label-arrow:before {content: \"▾\";}#sk-container-id-71 div.sk-estimator input.sk-toggleable__control:checked~label.sk-toggleable__label {background-color: #d4ebff;}#sk-container-id-71 div.sk-label input.sk-toggleable__control:checked~label.sk-toggleable__label {background-color: #d4ebff;}#sk-container-id-71 input.sk-hidden--visually {border: 0;clip: rect(1px 1px 1px 1px);clip: rect(1px, 1px, 1px, 1px);height: 1px;margin: -1px;overflow: hidden;padding: 0;position: absolute;width: 1px;}#sk-container-id-71 div.sk-estimator {font-family: monospace;background-color: #f0f8ff;border: 1px dotted black;border-radius: 0.25em;box-sizing: border-box;margin-bottom: 0.5em;}#sk-container-id-71 div.sk-estimator:hover {background-color: #d4ebff;}#sk-container-id-71 div.sk-parallel-item::after {content: \"\";width: 100%;border-bottom: 1px solid gray;flex-grow: 1;}#sk-container-id-71 div.sk-label:hover label.sk-toggleable__label {background-color: #d4ebff;}#sk-container-id-71 div.sk-serial::before {content: \"\";position: absolute;border-left: 1px solid gray;box-sizing: border-box;top: 0;bottom: 0;left: 50%;z-index: 0;}#sk-container-id-71 div.sk-serial {display: flex;flex-direction: column;align-items: center;background-color: white;padding-right: 0.2em;padding-left: 0.2em;position: relative;}#sk-container-id-71 div.sk-item {position: relative;z-index: 1;}#sk-container-id-71 div.sk-parallel {display: flex;align-items: stretch;justify-content: center;background-color: white;position: relative;}#sk-container-id-71 div.sk-item::before, #sk-container-id-71 div.sk-parallel-item::before {content: \"\";position: absolute;border-left: 1px solid gray;box-sizing: border-box;top: 0;bottom: 0;left: 50%;z-index: -1;}#sk-container-id-71 div.sk-parallel-item {display: flex;flex-direction: column;z-index: 1;position: relative;background-color: white;}#sk-container-id-71 div.sk-parallel-item:first-child::after {align-self: flex-end;width: 50%;}#sk-container-id-71 div.sk-parallel-item:last-child::after {align-self: flex-start;width: 50%;}#sk-container-id-71 div.sk-parallel-item:only-child::after {width: 0;}#sk-container-id-71 div.sk-dashed-wrapped {border: 1px dashed gray;margin: 0 0.4em 0.5em 0.4em;box-sizing: border-box;padding-bottom: 0.4em;background-color: white;}#sk-container-id-71 div.sk-label label {font-family: monospace;font-weight: bold;display: inline-block;line-height: 1.2em;}#sk-container-id-71 div.sk-label-container {text-align: center;}#sk-container-id-71 div.sk-container {/* jupyter's `normalize.less` sets `[hidden] { display: none; }` but bootstrap.min.css set `[hidden] { display: none !important; }` so we also need the `!important` here to be able to override the default hidden behavior on the sphinx rendered scikit-learn.org. See: https://github.com/scikit-learn/scikit-learn/issues/21755 */display: inline-block !important;position: relative;}#sk-container-id-71 div.sk-text-repr-fallback {display: none;}</style><div id=\"sk-container-id-71\" class=\"sk-top-container\"><div class=\"sk-text-repr-fallback\"><pre>MLPClassifier(alpha=6e-05)</pre><b>In a Jupyter environment, please rerun this cell to show the HTML representation or trust the notebook. <br />On GitHub, the HTML representation is unable to render, please try loading this page with nbviewer.org.</b></div><div class=\"sk-container\" hidden><div class=\"sk-item\"><div class=\"sk-estimator sk-toggleable\"><input class=\"sk-toggleable__control sk-hidden--visually\" id=\"sk-estimator-id-97\" type=\"checkbox\" checked><label for=\"sk-estimator-id-97\" class=\"sk-toggleable__label sk-toggleable__label-arrow\">MLPClassifier</label><div class=\"sk-toggleable__content\"><pre>MLPClassifier(alpha=6e-05)</pre></div></div></div></div></div>"
      ],
      "text/plain": [
       "MLPClassifier(alpha=6e-05)"
      ]
     },
     "metadata": {},
     "output_type": "display_data"
    }
   ],
   "source": [
    "main_clf.fit(X_train, y_train)"
   ]
  },
  {
   "cell_type": "code",
   "execution_count": null,
   "metadata": {},
   "outputs": [],
   "source": [
    "y_pred = main_clf.predict(X_val)"
   ]
  },
  {
   "cell_type": "code",
   "execution_count": null,
   "metadata": {},
   "outputs": [
    {
     "data": {
      "text/plain": [
       "0.9803266960772624"
      ]
     },
     "metadata": {},
     "output_type": "display_data"
    }
   ],
   "source": [
    "f1_score(y_val, y_pred)"
   ]
  },
  {
   "cell_type": "code",
   "execution_count": null,
   "metadata": {},
   "outputs": [],
   "source": []
  },
  {
   "cell_type": "code",
   "execution_count": null,
   "metadata": {},
   "outputs": [],
   "source": [
    "# main_clf = SGDClassifier(random_state=SEED, loss='log', class_weight='balanced', alpha=0.00007)\n",
    "# main_clf = LogisticRegression(tol=0.001)\n",
    "# main_clf =`` GradientBoostingClassifier()\n",
    "main_clf = MLPClassifier(alpha=0.00006)\n"
   ]
  },
  {
   "cell_type": "code",
   "execution_count": null,
   "metadata": {},
   "outputs": [],
   "source": [
    "# main_clf = SGDClassifier(random_state=SEED, loss='log', class_weight='balanced', alpha=0.00007)\n",
    "# main_clf = LogisticRegression(tol=0.001)\n",
    "# main_clf =`` GradientBoostingClassifier()\n",
    "main_clf = MLPClassifier(alpha=0.00006)\n"
   ]
  },
  {
   "cell_type": "code",
   "execution_count": null,
   "metadata": {},
   "outputs": [
    {
     "data": {
      "text/html": [
       "<style>#sk-container-id-71 {color: black;background-color: white;}#sk-container-id-71 pre{padding: 0;}#sk-container-id-71 div.sk-toggleable {background-color: white;}#sk-container-id-71 label.sk-toggleable__label {cursor: pointer;display: block;width: 100%;margin-bottom: 0;padding: 0.3em;box-sizing: border-box;text-align: center;}#sk-container-id-71 label.sk-toggleable__label-arrow:before {content: \"▸\";float: left;margin-right: 0.25em;color: #696969;}#sk-container-id-71 label.sk-toggleable__label-arrow:hover:before {color: black;}#sk-container-id-71 div.sk-estimator:hover label.sk-toggleable__label-arrow:before {color: black;}#sk-container-id-71 div.sk-toggleable__content {max-height: 0;max-width: 0;overflow: hidden;text-align: left;background-color: #f0f8ff;}#sk-container-id-71 div.sk-toggleable__content pre {margin: 0.2em;color: black;border-radius: 0.25em;background-color: #f0f8ff;}#sk-container-id-71 input.sk-toggleable__control:checked~div.sk-toggleable__content {max-height: 200px;max-width: 100%;overflow: auto;}#sk-container-id-71 input.sk-toggleable__control:checked~label.sk-toggleable__label-arrow:before {content: \"▾\";}#sk-container-id-71 div.sk-estimator input.sk-toggleable__control:checked~label.sk-toggleable__label {background-color: #d4ebff;}#sk-container-id-71 div.sk-label input.sk-toggleable__control:checked~label.sk-toggleable__label {background-color: #d4ebff;}#sk-container-id-71 input.sk-hidden--visually {border: 0;clip: rect(1px 1px 1px 1px);clip: rect(1px, 1px, 1px, 1px);height: 1px;margin: -1px;overflow: hidden;padding: 0;position: absolute;width: 1px;}#sk-container-id-71 div.sk-estimator {font-family: monospace;background-color: #f0f8ff;border: 1px dotted black;border-radius: 0.25em;box-sizing: border-box;margin-bottom: 0.5em;}#sk-container-id-71 div.sk-estimator:hover {background-color: #d4ebff;}#sk-container-id-71 div.sk-parallel-item::after {content: \"\";width: 100%;border-bottom: 1px solid gray;flex-grow: 1;}#sk-container-id-71 div.sk-label:hover label.sk-toggleable__label {background-color: #d4ebff;}#sk-container-id-71 div.sk-serial::before {content: \"\";position: absolute;border-left: 1px solid gray;box-sizing: border-box;top: 0;bottom: 0;left: 50%;z-index: 0;}#sk-container-id-71 div.sk-serial {display: flex;flex-direction: column;align-items: center;background-color: white;padding-right: 0.2em;padding-left: 0.2em;position: relative;}#sk-container-id-71 div.sk-item {position: relative;z-index: 1;}#sk-container-id-71 div.sk-parallel {display: flex;align-items: stretch;justify-content: center;background-color: white;position: relative;}#sk-container-id-71 div.sk-item::before, #sk-container-id-71 div.sk-parallel-item::before {content: \"\";position: absolute;border-left: 1px solid gray;box-sizing: border-box;top: 0;bottom: 0;left: 50%;z-index: -1;}#sk-container-id-71 div.sk-parallel-item {display: flex;flex-direction: column;z-index: 1;position: relative;background-color: white;}#sk-container-id-71 div.sk-parallel-item:first-child::after {align-self: flex-end;width: 50%;}#sk-container-id-71 div.sk-parallel-item:last-child::after {align-self: flex-start;width: 50%;}#sk-container-id-71 div.sk-parallel-item:only-child::after {width: 0;}#sk-container-id-71 div.sk-dashed-wrapped {border: 1px dashed gray;margin: 0 0.4em 0.5em 0.4em;box-sizing: border-box;padding-bottom: 0.4em;background-color: white;}#sk-container-id-71 div.sk-label label {font-family: monospace;font-weight: bold;display: inline-block;line-height: 1.2em;}#sk-container-id-71 div.sk-label-container {text-align: center;}#sk-container-id-71 div.sk-container {/* jupyter's `normalize.less` sets `[hidden] { display: none; }` but bootstrap.min.css set `[hidden] { display: none !important; }` so we also need the `!important` here to be able to override the default hidden behavior on the sphinx rendered scikit-learn.org. See: https://github.com/scikit-learn/scikit-learn/issues/21755 */display: inline-block !important;position: relative;}#sk-container-id-71 div.sk-text-repr-fallback {display: none;}</style><div id=\"sk-container-id-71\" class=\"sk-top-container\"><div class=\"sk-text-repr-fallback\"><pre>MLPClassifier(alpha=6e-05)</pre><b>In a Jupyter environment, please rerun this cell to show the HTML representation or trust the notebook. <br />On GitHub, the HTML representation is unable to render, please try loading this page with nbviewer.org.</b></div><div class=\"sk-container\" hidden><div class=\"sk-item\"><div class=\"sk-estimator sk-toggleable\"><input class=\"sk-toggleable__control sk-hidden--visually\" id=\"sk-estimator-id-97\" type=\"checkbox\" checked><label for=\"sk-estimator-id-97\" class=\"sk-toggleable__label sk-toggleable__label-arrow\">MLPClassifier</label><div class=\"sk-toggleable__content\"><pre>MLPClassifier(alpha=6e-05)</pre></div></div></div></div></div>"
      ],
      "text/plain": [
       "MLPClassifier(alpha=6e-05)"
      ]
     },
     "metadata": {},
     "output_type": "display_data"
    }
   ],
   "source": [
    "main_clf.fit(X_train, y_train)"
   ]
  },
  {
   "cell_type": "code",
   "execution_count": null,
   "metadata": {},
   "outputs": [],
   "source": [
    "y_pred = main_clf.predict(X_val)"
   ]
  },
  {
   "cell_type": "code",
   "execution_count": null,
   "metadata": {},
   "outputs": [
    {
     "data": {
      "text/plain": [
       "0.9803266960772624"
      ]
     },
     "metadata": {},
     "output_type": "display_data"
    }
   ],
   "source": [
    "f1_score(y_val, y_pred)"
   ]
  },
  {
   "cell_type": "code",
   "execution_count": null,
   "metadata": {},
   "outputs": [],
   "source": []
  },
  {
   "cell_type": "code",
   "execution_count": null,
   "metadata": {},
   "outputs": [
    {
     "data": {
      "text/html": [
       "<style>#sk-container-id-71 {color: black;background-color: white;}#sk-container-id-71 pre{padding: 0;}#sk-container-id-71 div.sk-toggleable {background-color: white;}#sk-container-id-71 label.sk-toggleable__label {cursor: pointer;display: block;width: 100%;margin-bottom: 0;padding: 0.3em;box-sizing: border-box;text-align: center;}#sk-container-id-71 label.sk-toggleable__label-arrow:before {content: \"▸\";float: left;margin-right: 0.25em;color: #696969;}#sk-container-id-71 label.sk-toggleable__label-arrow:hover:before {color: black;}#sk-container-id-71 div.sk-estimator:hover label.sk-toggleable__label-arrow:before {color: black;}#sk-container-id-71 div.sk-toggleable__content {max-height: 0;max-width: 0;overflow: hidden;text-align: left;background-color: #f0f8ff;}#sk-container-id-71 div.sk-toggleable__content pre {margin: 0.2em;color: black;border-radius: 0.25em;background-color: #f0f8ff;}#sk-container-id-71 input.sk-toggleable__control:checked~div.sk-toggleable__content {max-height: 200px;max-width: 100%;overflow: auto;}#sk-container-id-71 input.sk-toggleable__control:checked~label.sk-toggleable__label-arrow:before {content: \"▾\";}#sk-container-id-71 div.sk-estimator input.sk-toggleable__control:checked~label.sk-toggleable__label {background-color: #d4ebff;}#sk-container-id-71 div.sk-label input.sk-toggleable__control:checked~label.sk-toggleable__label {background-color: #d4ebff;}#sk-container-id-71 input.sk-hidden--visually {border: 0;clip: rect(1px 1px 1px 1px);clip: rect(1px, 1px, 1px, 1px);height: 1px;margin: -1px;overflow: hidden;padding: 0;position: absolute;width: 1px;}#sk-container-id-71 div.sk-estimator {font-family: monospace;background-color: #f0f8ff;border: 1px dotted black;border-radius: 0.25em;box-sizing: border-box;margin-bottom: 0.5em;}#sk-container-id-71 div.sk-estimator:hover {background-color: #d4ebff;}#sk-container-id-71 div.sk-parallel-item::after {content: \"\";width: 100%;border-bottom: 1px solid gray;flex-grow: 1;}#sk-container-id-71 div.sk-label:hover label.sk-toggleable__label {background-color: #d4ebff;}#sk-container-id-71 div.sk-serial::before {content: \"\";position: absolute;border-left: 1px solid gray;box-sizing: border-box;top: 0;bottom: 0;left: 50%;z-index: 0;}#sk-container-id-71 div.sk-serial {display: flex;flex-direction: column;align-items: center;background-color: white;padding-right: 0.2em;padding-left: 0.2em;position: relative;}#sk-container-id-71 div.sk-item {position: relative;z-index: 1;}#sk-container-id-71 div.sk-parallel {display: flex;align-items: stretch;justify-content: center;background-color: white;position: relative;}#sk-container-id-71 div.sk-item::before, #sk-container-id-71 div.sk-parallel-item::before {content: \"\";position: absolute;border-left: 1px solid gray;box-sizing: border-box;top: 0;bottom: 0;left: 50%;z-index: -1;}#sk-container-id-71 div.sk-parallel-item {display: flex;flex-direction: column;z-index: 1;position: relative;background-color: white;}#sk-container-id-71 div.sk-parallel-item:first-child::after {align-self: flex-end;width: 50%;}#sk-container-id-71 div.sk-parallel-item:last-child::after {align-self: flex-start;width: 50%;}#sk-container-id-71 div.sk-parallel-item:only-child::after {width: 0;}#sk-container-id-71 div.sk-dashed-wrapped {border: 1px dashed gray;margin: 0 0.4em 0.5em 0.4em;box-sizing: border-box;padding-bottom: 0.4em;background-color: white;}#sk-container-id-71 div.sk-label label {font-family: monospace;font-weight: bold;display: inline-block;line-height: 1.2em;}#sk-container-id-71 div.sk-label-container {text-align: center;}#sk-container-id-71 div.sk-container {/* jupyter's `normalize.less` sets `[hidden] { display: none; }` but bootstrap.min.css set `[hidden] { display: none !important; }` so we also need the `!important` here to be able to override the default hidden behavior on the sphinx rendered scikit-learn.org. See: https://github.com/scikit-learn/scikit-learn/issues/21755 */display: inline-block !important;position: relative;}#sk-container-id-71 div.sk-text-repr-fallback {display: none;}</style><div id=\"sk-container-id-71\" class=\"sk-top-container\"><div class=\"sk-text-repr-fallback\"><pre>MLPClassifier(alpha=6e-05)</pre><b>In a Jupyter environment, please rerun this cell to show the HTML representation or trust the notebook. <br />On GitHub, the HTML representation is unable to render, please try loading this page with nbviewer.org.</b></div><div class=\"sk-container\" hidden><div class=\"sk-item\"><div class=\"sk-estimator sk-toggleable\"><input class=\"sk-toggleable__control sk-hidden--visually\" id=\"sk-estimator-id-97\" type=\"checkbox\" checked><label for=\"sk-estimator-id-97\" class=\"sk-toggleable__label sk-toggleable__label-arrow\">MLPClassifier</label><div class=\"sk-toggleable__content\"><pre>MLPClassifier(alpha=6e-05)</pre></div></div></div></div></div>"
      ],
      "text/plain": [
       "MLPClassifier(alpha=6e-05)"
      ]
     },
     "metadata": {},
     "output_type": "display_data"
    }
   ],
   "source": [
    "main_clf.fit(X_train, y_train)"
   ]
  },
  {
   "cell_type": "code",
   "execution_count": null,
   "metadata": {},
   "outputs": [],
   "source": [
    "y_pred = main_clf.predict(X_val)"
   ]
  },
  {
   "cell_type": "code",
   "execution_count": null,
   "metadata": {},
   "outputs": [
    {
     "data": {
      "text/plain": [
       "0.9803266960772624"
      ]
     },
     "metadata": {},
     "output_type": "display_data"
    }
   ],
   "source": [
    "f1_score(y_val, y_pred)"
   ]
  },
  {
   "cell_type": "code",
   "execution_count": null,
   "metadata": {},
   "outputs": [],
   "source": []
  },
  {
   "attachments": {},
   "cell_type": "markdown",
   "metadata": {},
   "source": [
    "CountVectorizer"
   ]
  },
  {
   "cell_type": "code",
   "execution_count": 322,
   "metadata": {},
   "outputs": [],
   "source": [
    "TOKEN_PATTERN = \"[а-яёa-z]+\""
   ]
  },
  {
   "cell_type": "code",
   "execution_count": 329,
   "metadata": {},
   "outputs": [],
   "source": [
    "count_model = Pipeline([\n",
    "    (\n",
    "        'vectorizer',\n",
    "        CountVectorizer(\n",
    "            lowercase=True, ngram_range=(1, 1), token_pattern=TOKEN_PATTERN,\n",
    "            stop_words=stop_words, min_df=3\n",
    "        )\n",
    "    ),\n",
    "    ('clf', SGDClassifier(random_state=SEED, loss='log', class_weight='balanced'))\n",
    "])"
   ]
  },
  {
   "cell_type": "code",
   "execution_count": 327,
   "metadata": {},
   "outputs": [
    {
     "name": "stderr",
     "output_type": "stream",
     "text": [
      "c:\\Users\\vald_\\AppData\\Local\\Programs\\Python\\Python310\\lib\\site-packages\\sklearn\\feature_extraction\\text.py:409: UserWarning: Your stop_words may be inconsistent with your preprocessing. Tokenizing the stop words generated tokens ['ac', 'acaba', 'ace', 'aceast', 'aib', 'ais', 'aix', 'aldiz', 'altm', 'ambd', 'amos', 'aqu', 'aras', 'arr', 'art', 'asl', 'ave', 'avr', 'azut', 'b', 'baiknya', 'baizik', 'bamos', 'ban', 'baz', 'bb', 'bel', 'ber', 'berkali', 'birka', 'bizl', 'br', 'bukatzeko', 'bunlar', 'cadasc', 'dac', 'dana', 'dant', 'despr', 'dou', 'dup', 'dur', 'dvain', 'edota', 'ega', 'eiv', 'ejo', 'elel', 'elela', 'elele', 'eleli', 'elelo', 'elen', 'elena', 'elene', 'eleni', 'eleno', 'eleti', 'eli', 'elijo', 'elim', 'elimo', 'elita', 'elite', 'eliva', 'emer', 'emerkoli', 'emo', 'emu', 'emur', 'emurkoli', 'enkoli', 'eprav', 'eravno', 'erega', 'eremu', 'erih', 'erim', 'erima', 'erimi', 'esar', 'esarkoli', 'estdeset', 'estdeseta', 'estdesete', 'estdesetega', 'estdesetem', 'estdesetemu', 'estdeseti', 'estdesetih', 'estdesetim', 'estdesetima', 'estdesetimi', 'estdeseto', 'estega', 'estemu', 'esti', 'estih', 'estim', 'estima', 'estimi', 'estindvajset', 'estindvajsetih', 'estindvajsetim', 'estindvajsetimi', 'estintrideset', 'estintridesetih', 'estintridesetim', 'estintridesetimi', 'estiv', 'estnajst', 'estnajsta', 'estnajste', 'estnajstega', 'estnajstem', 'estnajstemu', 'estnajsti', 'estnajstih', 'estnajstim', 'estnajstima', 'estnajstimi', 'estnajsto', 'eststo', 'eststotih', 'eststotim', 'eststotimi', 'estuvi', 'ete', 'etm', 'etrta', 'etrte', 'etrtega', 'etrtem', 'etrtemu', 'etrti', 'etrtih', 'etrtim', 'etrtima', 'etrtimi', 'etrto', 'etudi', 'eva', 'ey', 'eze', 'ezenj', 'eznje', 'ezpabere', 'ezpada', 'ezperen', 'f', 'fr', 'g', 'gainera', 'gainerontzean', 'gaireb', 'gil', 'gon', 'gra', 'guztiz', 'gy', 'habr', 'hainbestez', 'haqq', 'heid', 'heill', 'heilt', 'heiss', 'heist', 'heit', 'hj', 'horra', 'houv', 'hrend', 'hubi', 'hv', 'hz', 'iden', 'ieи', 'igar', 'igav', 'igava', 'igave', 'igavega', 'igavem', 'igavemu', 'igavi', 'igavih', 'igavim', 'igavima', 'igavimi', 'igavo', 'ih', 'ihin', 'iksi', 'ild', 'ille', 'ilt', 'ima', 'imer', 'imerkoli', 'ina', 'incl', 'ine', 'ism', 'istifad', 'jabb', 'jra', 'kakr', 'kali', 'keill', 'keilt', 'keiss', 'keist', 'keit', 'kenell', 'kenelt', 'keness', 'kenest', 'keress', 'kereszt', 'ket', 'ketk', 'kkiz', 'kone', 'ks', 'ksi', 'kurangnya', 'lb', 'lea', 'legal', 'lk', 'lle', 'lli', 'lt', 'ltal', 'ltim', 'lv', 'mag', 'marsi', 'marve', 'mata', 'meid', 'meill', 'meilt', 'meiss', 'meist', 'meit', 'mik', 'mill', 'milt', 'mink', 'miss', 'mist', 'mitk', 'mo', 'mul', 'najbr', 'nakoli', 'namre', 'nda', 'neen', 'nega', 'negakoli', 'nekoli', 'nelt', 'nemkoli', 'nemu', 'nemukoli', 'nen', 'ness', 'nest', 'net', 'ng', 'nhamos', 'nih', 'nihkoli', 'niill', 'niilt', 'niiss', 'niist', 'niit', 'nikakr', 'nikoli', 'nim', 'nima', 'nimakoli', 'nimi', 'nimikoli', 'nimkoli', 'nin', 'niy', 'nk', 'nki', 'nn', 'nnen', 'nnte', 'noastr', 'nokoli', 'nom', 'nt', 'ny', 'ogs', 'olah', 'olmad', 'olmu', 'ordea', 'oric', 'osemin', 'osterantzean', 'ox', 'p', 'perch', 'perqu', 'petin', 'pi', 'ppen', 'printr', 'pu', 'qar', 'qiq', 'r', 'ra', 'ramos', 'rd', 'rde', 'rden', 'rei', 'rem', 'ret', 'reu', 'ror', 'rt', 'rui', 'rx', 'sad', 'saniy', 'sar', 'sedemin', 'sek', 'sekurang', 'semos', 'setidak', 'siin', 'siit', 'sik', 'sill', 'silt', 'sizl', 'sj', 'slind', 'spri', 'ss', 'ssemos', 'ssent', 'ssze', 'st', 'star', 'stea', 'sunte', 'sz', 'taient', 'tais', 'tait', 'tall', 'tama', 'tamb', 'tambi', 'tante', 'tants', 'teid', 'teill', 'teilt', 'teiss', 'teist', 'teit', 'temve', 'ten', 'tendr', 'teng', 'tia', 'tidaknya', 'tiez', 'tions', 'tiri', 'tirideset', 'tirideseta', 'tiridesete', 'tiridesetega', 'tiridesetem', 'tiridesetemu', 'tirideseti', 'tiridesetih', 'tiridesetim', 'tiridesetima', 'tiridesetimi', 'tirideseto', 'tirih', 'tiriindvajset', 'tiriindvajseta', 'tiriindvajsete', 'tiriindvajsetega', 'tiriindvajsetem', 'tiriindvajsetemu', 'tiriindvajseti', 'tiriindvajsetih', 'tiriindvajsetim', 'tiriindvajsetima', 'tiriindvajsetimi', 'tiriindvajseto', 'tirim', 'tirimi', 'tirinajst', 'tirinajsta', 'tirinajste', 'tirinajstega', 'tirinajstem', 'tirinajstemu', 'tirinajsti', 'tirinajstih', 'tirinajstim', 'tirinajstima', 'tirinajstimi', 'tirinajsto', 'tiristo', 'tiristotih', 'tiristotim', 'tiristotimi', 'tirje', 'tiso', 'tiv', 'toat', 'totu', 'tov', 'tre', 'tric', 'triin', 'tt', 'tuot', 'tuvi', 'tva', 'utols', 'val', 'vamos', 'varf', 'ver', 'vnovi', 'voastr', 'voc', 'vou', 'vpri', 'vsakr', 'vzdol', 'w', 'yaln', 'yax', 'yen', 'yetmi', 'zmo', 'абл', 'або', 'адар', 'айдан', 'айри', 'айсы', 'айсыб', 'айтпа', 'ала', 'алай', 'алда', 'алт', 'ам', 'амин', 'амон', 'амоно', 'ан', 'ангоми', 'андай', 'ап', 'арай', 'аралы', 'арба', 'аргиз', 'арсала', 'арчанд', 'ат', 'атар', 'атто', 'афташ', 'ашан', 'б', 'бай', 'бале', 'барлы', 'баски', 'батыр', 'ббо', 'бер', 'болои', 'валекин', 'вой', 'ву', 'г', 'гар', 'гарчанде', 'ге', 'гел', 'гже', 'д', 'дала', 'даме', 'дей', 'ербеле', 'ешб', 'ешк', 'жалт', 'жарак', 'жо', 'жуы', 'з', 'збен', 'зге', 'зд', 'зден', 'здер', 'здерге', 'здерд', 'здерден', 'здермен', 'й', 'йда', 'йи', 'йт', 'йткен', 'йткенмен', 'йтпесе', 'кан', 'карда', 'кей', 'кейб', 'кошк', 'кошки', 'куя', 'л', 'ла', 'лде', 'лдек', 'лдене', 'лденеше', 'лл', 'лт', 'м', 'ма', 'магар', 'майлаш', 'малла', 'мас', 'ме', 'миты', 'мм', 'мн', 'мо', 'модоме', 'н', 'ндай', 'неки', 'нияти', 'ншей', 'оларды', 'олате', 'олп', 'онан', 'ониб', 'оны', 'оре', 'орс', 'оса', 'ош', 'п', 'р', 'ра', 'рау', 'рб', 'рге', 'рдеме', 'рекелд', 'реу', 'ри', 'рине', 'рк', 'рлы', 'рлым', 'рне', 'рнеше', 'рс', 'рт', 'рын', 'са', 'сала', 'сар', 'себеб', 'сия', 'сонды', 'сса', 'сы', 'т', 'та', 'тан', 'тарба', 'те', 'тимол', 'тразе', 'тте', 'ттеген', 'ттегенай', 'ту', 'тыр', 'тыржы', 'уди', 'уз', 'ук', 'фа', 'хом', 'хуб', 'ч', 'чаро', 'чи', 'чун', 'чунон', 'ш', 'ша', 'шарте', 'шей', 'шту', 'шы', 'ы', 'ыда', 'ызара', 'ылы', 'ыр', 'ыржы'] not in stop_words.\n",
      "  warnings.warn(\n",
      "c:\\Users\\vald_\\AppData\\Local\\Programs\\Python\\Python310\\lib\\site-packages\\sklearn\\linear_model\\_stochastic_gradient.py:163: FutureWarning: The loss 'log' was deprecated in v1.1 and will be removed in version 1.3. Use `loss='log_loss'` which is equivalent.\n",
      "  warnings.warn(\n"
     ]
    },
    {
     "data": {
      "text/html": [
       "<style>#sk-container-id-21 {color: black;background-color: white;}#sk-container-id-21 pre{padding: 0;}#sk-container-id-21 div.sk-toggleable {background-color: white;}#sk-container-id-21 label.sk-toggleable__label {cursor: pointer;display: block;width: 100%;margin-bottom: 0;padding: 0.3em;box-sizing: border-box;text-align: center;}#sk-container-id-21 label.sk-toggleable__label-arrow:before {content: \"▸\";float: left;margin-right: 0.25em;color: #696969;}#sk-container-id-21 label.sk-toggleable__label-arrow:hover:before {color: black;}#sk-container-id-21 div.sk-estimator:hover label.sk-toggleable__label-arrow:before {color: black;}#sk-container-id-21 div.sk-toggleable__content {max-height: 0;max-width: 0;overflow: hidden;text-align: left;background-color: #f0f8ff;}#sk-container-id-21 div.sk-toggleable__content pre {margin: 0.2em;color: black;border-radius: 0.25em;background-color: #f0f8ff;}#sk-container-id-21 input.sk-toggleable__control:checked~div.sk-toggleable__content {max-height: 200px;max-width: 100%;overflow: auto;}#sk-container-id-21 input.sk-toggleable__control:checked~label.sk-toggleable__label-arrow:before {content: \"▾\";}#sk-container-id-21 div.sk-estimator input.sk-toggleable__control:checked~label.sk-toggleable__label {background-color: #d4ebff;}#sk-container-id-21 div.sk-label input.sk-toggleable__control:checked~label.sk-toggleable__label {background-color: #d4ebff;}#sk-container-id-21 input.sk-hidden--visually {border: 0;clip: rect(1px 1px 1px 1px);clip: rect(1px, 1px, 1px, 1px);height: 1px;margin: -1px;overflow: hidden;padding: 0;position: absolute;width: 1px;}#sk-container-id-21 div.sk-estimator {font-family: monospace;background-color: #f0f8ff;border: 1px dotted black;border-radius: 0.25em;box-sizing: border-box;margin-bottom: 0.5em;}#sk-container-id-21 div.sk-estimator:hover {background-color: #d4ebff;}#sk-container-id-21 div.sk-parallel-item::after {content: \"\";width: 100%;border-bottom: 1px solid gray;flex-grow: 1;}#sk-container-id-21 div.sk-label:hover label.sk-toggleable__label {background-color: #d4ebff;}#sk-container-id-21 div.sk-serial::before {content: \"\";position: absolute;border-left: 1px solid gray;box-sizing: border-box;top: 0;bottom: 0;left: 50%;z-index: 0;}#sk-container-id-21 div.sk-serial {display: flex;flex-direction: column;align-items: center;background-color: white;padding-right: 0.2em;padding-left: 0.2em;position: relative;}#sk-container-id-21 div.sk-item {position: relative;z-index: 1;}#sk-container-id-21 div.sk-parallel {display: flex;align-items: stretch;justify-content: center;background-color: white;position: relative;}#sk-container-id-21 div.sk-item::before, #sk-container-id-21 div.sk-parallel-item::before {content: \"\";position: absolute;border-left: 1px solid gray;box-sizing: border-box;top: 0;bottom: 0;left: 50%;z-index: -1;}#sk-container-id-21 div.sk-parallel-item {display: flex;flex-direction: column;z-index: 1;position: relative;background-color: white;}#sk-container-id-21 div.sk-parallel-item:first-child::after {align-self: flex-end;width: 50%;}#sk-container-id-21 div.sk-parallel-item:last-child::after {align-self: flex-start;width: 50%;}#sk-container-id-21 div.sk-parallel-item:only-child::after {width: 0;}#sk-container-id-21 div.sk-dashed-wrapped {border: 1px dashed gray;margin: 0 0.4em 0.5em 0.4em;box-sizing: border-box;padding-bottom: 0.4em;background-color: white;}#sk-container-id-21 div.sk-label label {font-family: monospace;font-weight: bold;display: inline-block;line-height: 1.2em;}#sk-container-id-21 div.sk-label-container {text-align: center;}#sk-container-id-21 div.sk-container {/* jupyter's `normalize.less` sets `[hidden] { display: none; }` but bootstrap.min.css set `[hidden] { display: none !important; }` so we also need the `!important` here to be able to override the default hidden behavior on the sphinx rendered scikit-learn.org. See: https://github.com/scikit-learn/scikit-learn/issues/21755 */display: inline-block !important;position: relative;}#sk-container-id-21 div.sk-text-repr-fallback {display: none;}</style><div id=\"sk-container-id-21\" class=\"sk-top-container\"><div class=\"sk-text-repr-fallback\"><pre>Pipeline(steps=[(&#x27;vectorizer&#x27;,\n",
       "                 CountVectorizer(max_df=0.8, min_df=3,\n",
       "                                 stop_words=[&#x27;إذ&#x27;, &#x27;إذا&#x27;, &#x27;إذما&#x27;, &#x27;إذن&#x27;, &#x27;أف&#x27;,\n",
       "                                             &#x27;أقل&#x27;, &#x27;أكثر&#x27;, &#x27;ألا&#x27;, &#x27;إلا&#x27;,\n",
       "                                             &#x27;التي&#x27;, &#x27;الذي&#x27;, &#x27;الذين&#x27;, &#x27;اللاتي&#x27;,\n",
       "                                             &#x27;اللائي&#x27;, &#x27;اللتان&#x27;, &#x27;اللتيا&#x27;,\n",
       "                                             &#x27;اللتين&#x27;, &#x27;اللذان&#x27;, &#x27;اللذين&#x27;,\n",
       "                                             &#x27;اللواتي&#x27;, &#x27;إلى&#x27;, &#x27;إليك&#x27;, &#x27;إليكم&#x27;,\n",
       "                                             &#x27;إليكما&#x27;, &#x27;إليكن&#x27;, &#x27;أم&#x27;, &#x27;أما&#x27;,\n",
       "                                             &#x27;أما&#x27;, &#x27;إما&#x27;, &#x27;أن&#x27;, ...],\n",
       "                                 token_pattern=&#x27;[а-яёa-z]+&#x27;)),\n",
       "                (&#x27;clf&#x27;,\n",
       "                 SGDClassifier(class_weight=&#x27;balanced&#x27;, loss=&#x27;log&#x27;,\n",
       "                               random_state=42))])</pre><b>In a Jupyter environment, please rerun this cell to show the HTML representation or trust the notebook. <br />On GitHub, the HTML representation is unable to render, please try loading this page with nbviewer.org.</b></div><div class=\"sk-container\" hidden><div class=\"sk-item sk-dashed-wrapped\"><div class=\"sk-label-container\"><div class=\"sk-label sk-toggleable\"><input class=\"sk-toggleable__control sk-hidden--visually\" id=\"sk-estimator-id-63\" type=\"checkbox\" ><label for=\"sk-estimator-id-63\" class=\"sk-toggleable__label sk-toggleable__label-arrow\">Pipeline</label><div class=\"sk-toggleable__content\"><pre>Pipeline(steps=[(&#x27;vectorizer&#x27;,\n",
       "                 CountVectorizer(max_df=0.8, min_df=3,\n",
       "                                 stop_words=[&#x27;إذ&#x27;, &#x27;إذا&#x27;, &#x27;إذما&#x27;, &#x27;إذن&#x27;, &#x27;أف&#x27;,\n",
       "                                             &#x27;أقل&#x27;, &#x27;أكثر&#x27;, &#x27;ألا&#x27;, &#x27;إلا&#x27;,\n",
       "                                             &#x27;التي&#x27;, &#x27;الذي&#x27;, &#x27;الذين&#x27;, &#x27;اللاتي&#x27;,\n",
       "                                             &#x27;اللائي&#x27;, &#x27;اللتان&#x27;, &#x27;اللتيا&#x27;,\n",
       "                                             &#x27;اللتين&#x27;, &#x27;اللذان&#x27;, &#x27;اللذين&#x27;,\n",
       "                                             &#x27;اللواتي&#x27;, &#x27;إلى&#x27;, &#x27;إليك&#x27;, &#x27;إليكم&#x27;,\n",
       "                                             &#x27;إليكما&#x27;, &#x27;إليكن&#x27;, &#x27;أم&#x27;, &#x27;أما&#x27;,\n",
       "                                             &#x27;أما&#x27;, &#x27;إما&#x27;, &#x27;أن&#x27;, ...],\n",
       "                                 token_pattern=&#x27;[а-яёa-z]+&#x27;)),\n",
       "                (&#x27;clf&#x27;,\n",
       "                 SGDClassifier(class_weight=&#x27;balanced&#x27;, loss=&#x27;log&#x27;,\n",
       "                               random_state=42))])</pre></div></div></div><div class=\"sk-serial\"><div class=\"sk-item\"><div class=\"sk-estimator sk-toggleable\"><input class=\"sk-toggleable__control sk-hidden--visually\" id=\"sk-estimator-id-64\" type=\"checkbox\" ><label for=\"sk-estimator-id-64\" class=\"sk-toggleable__label sk-toggleable__label-arrow\">CountVectorizer</label><div class=\"sk-toggleable__content\"><pre>CountVectorizer(max_df=0.8, min_df=3,\n",
       "                stop_words=[&#x27;إذ&#x27;, &#x27;إذا&#x27;, &#x27;إذما&#x27;, &#x27;إذن&#x27;, &#x27;أف&#x27;, &#x27;أقل&#x27;, &#x27;أكثر&#x27;,\n",
       "                            &#x27;ألا&#x27;, &#x27;إلا&#x27;, &#x27;التي&#x27;, &#x27;الذي&#x27;, &#x27;الذين&#x27;, &#x27;اللاتي&#x27;,\n",
       "                            &#x27;اللائي&#x27;, &#x27;اللتان&#x27;, &#x27;اللتيا&#x27;, &#x27;اللتين&#x27;, &#x27;اللذان&#x27;,\n",
       "                            &#x27;اللذين&#x27;, &#x27;اللواتي&#x27;, &#x27;إلى&#x27;, &#x27;إليك&#x27;, &#x27;إليكم&#x27;,\n",
       "                            &#x27;إليكما&#x27;, &#x27;إليكن&#x27;, &#x27;أم&#x27;, &#x27;أما&#x27;, &#x27;أما&#x27;, &#x27;إما&#x27;, &#x27;أن&#x27;, ...],\n",
       "                token_pattern=&#x27;[а-яёa-z]+&#x27;)</pre></div></div></div><div class=\"sk-item\"><div class=\"sk-estimator sk-toggleable\"><input class=\"sk-toggleable__control sk-hidden--visually\" id=\"sk-estimator-id-65\" type=\"checkbox\" ><label for=\"sk-estimator-id-65\" class=\"sk-toggleable__label sk-toggleable__label-arrow\">SGDClassifier</label><div class=\"sk-toggleable__content\"><pre>SGDClassifier(class_weight=&#x27;balanced&#x27;, loss=&#x27;log&#x27;, random_state=42)</pre></div></div></div></div></div></div></div>"
      ],
      "text/plain": [
       "Pipeline(steps=[('vectorizer',\n",
       "                 CountVectorizer(max_df=0.8, min_df=3,\n",
       "                                 stop_words=['إذ', 'إذا', 'إذما', 'إذن', 'أف',\n",
       "                                             'أقل', 'أكثر', 'ألا', 'إلا',\n",
       "                                             'التي', 'الذي', 'الذين', 'اللاتي',\n",
       "                                             'اللائي', 'اللتان', 'اللتيا',\n",
       "                                             'اللتين', 'اللذان', 'اللذين',\n",
       "                                             'اللواتي', 'إلى', 'إليك', 'إليكم',\n",
       "                                             'إليكما', 'إليكن', 'أم', 'أما',\n",
       "                                             'أما', 'إما', 'أن', ...],\n",
       "                                 token_pattern='[а-яёa-z]+')),\n",
       "                ('clf',\n",
       "                 SGDClassifier(class_weight='balanced', loss='log',\n",
       "                               random_state=42))])"
      ]
     },
     "execution_count": 327,
     "metadata": {},
     "output_type": "execute_result"
    }
   ],
   "source": [
    "count_model.fit(Xt_train, y_train)"
   ]
  },
  {
   "cell_type": "code",
   "execution_count": 328,
   "metadata": {},
   "outputs": [
    {
     "data": {
      "text/plain": [
       "0.4155354449472097"
      ]
     },
     "execution_count": 328,
     "metadata": {},
     "output_type": "execute_result"
    }
   ],
   "source": [
    "f1_score(y_test, count_model.predict(Xt_test))"
   ]
  },
  {
   "cell_type": "code",
   "execution_count": 367,
   "metadata": {},
   "outputs": [],
   "source": [
    "vectorizer = CountVectorizer()\n",
    "model = MultinomialNB()"
   ]
  },
  {
   "cell_type": "code",
   "execution_count": 203,
   "metadata": {},
   "outputs": [
    {
     "data": {
      "text/html": [
       "<div>\n",
       "<style scoped>\n",
       "    .dataframe tbody tr th:only-of-type {\n",
       "        vertical-align: middle;\n",
       "    }\n",
       "\n",
       "    .dataframe tbody tr th {\n",
       "        vertical-align: top;\n",
       "    }\n",
       "\n",
       "    .dataframe thead th {\n",
       "        text-align: right;\n",
       "    }\n",
       "</style>\n",
       "<table border=\"1\" class=\"dataframe\">\n",
       "  <thead>\n",
       "    <tr style=\"text-align: right;\">\n",
       "      <th></th>\n",
       "      <th>url</th>\n",
       "      <th>title</th>\n",
       "    </tr>\n",
       "  </thead>\n",
       "  <tbody>\n",
       "    <tr>\n",
       "      <th>0</th>\n",
       "      <td>m.kp.md</td>\n",
       "      <td>Экс-министр экономики Молдовы - главе МИДЭИ, ц...</td>\n",
       "    </tr>\n",
       "    <tr>\n",
       "      <th>1</th>\n",
       "      <td>www.kp.by</td>\n",
       "      <td>Эта песня стала известна многим телезрителям б...</td>\n",
       "    </tr>\n",
       "    <tr>\n",
       "      <th>2</th>\n",
       "      <td>fanserials.tv</td>\n",
       "      <td>Банши 4 сезон 2 серия Бремя красоты смотреть о...</td>\n",
       "    </tr>\n",
       "    <tr>\n",
       "      <th>3</th>\n",
       "      <td>colorbox.spb.ru</td>\n",
       "      <td>Не Беси Меня Картинки</td>\n",
       "    </tr>\n",
       "    <tr>\n",
       "      <th>4</th>\n",
       "      <td>tula-sport.ru</td>\n",
       "      <td>В Новомосковске сыграют следж-хоккеисты алекси...</td>\n",
       "    </tr>\n",
       "  </tbody>\n",
       "</table>\n",
       "</div>"
      ],
      "text/plain": [
       "               url                                              title\n",
       "0          m.kp.md  Экс-министр экономики Молдовы - главе МИДЭИ, ц...\n",
       "1        www.kp.by  Эта песня стала известна многим телезрителям б...\n",
       "2    fanserials.tv  Банши 4 сезон 2 серия Бремя красоты смотреть о...\n",
       "3  colorbox.spb.ru                              Не Беси Меня Картинки\n",
       "4    tula-sport.ru  В Новомосковске сыграют следж-хоккеисты алекси..."
      ]
     },
     "execution_count": 203,
     "metadata": {},
     "output_type": "execute_result"
    }
   ],
   "source": [
    "X.head()"
   ]
  },
  {
   "cell_type": "code",
   "execution_count": 368,
   "metadata": {},
   "outputs": [],
   "source": [
    "vectorizer.fit(X[\"title\"])\n",
    "Xt_train_vectorized = vectorizer.transform(Xt_train)\n",
    "Xt_test_vectorized = vectorizer.transform(Xt_test)"
   ]
  },
  {
   "cell_type": "code",
   "execution_count": 369,
   "metadata": {},
   "outputs": [
    {
     "name": "stdout",
     "output_type": "stream",
     "text": [
      "CPU times: total: 31.2 ms\n",
      "Wall time: 34 ms\n"
     ]
    }
   ],
   "source": [
    "%%time\n",
    "\n",
    "model.fit(\n",
    "    Xt_train_vectorized,\n",
    "    y_train\n",
    ")\n",
    "\n",
    "y_pred = model.predict(\n",
    "    Xt_test_vectorized\n",
    ")"
   ]
  },
  {
   "cell_type": "code",
   "execution_count": 370,
   "metadata": {},
   "outputs": [
    {
     "data": {
      "text/plain": [
       "0.6354833904364666"
      ]
     },
     "execution_count": 370,
     "metadata": {},
     "output_type": "execute_result"
    }
   ],
   "source": [
    "f1_score(y_test, y_pred)"
   ]
  },
  {
   "cell_type": "code",
   "execution_count": 256,
   "metadata": {},
   "outputs": [],
   "source": [
    "parameters = {\n",
    "    'vectorizer__max_df': (0.5, 0.75),\n",
    "    'vectorizer__min_df': (3, 5, 7),\n",
    "    'clf__alpha': (0.0001, 0.001, 0.01),\n",
    "}"
   ]
  },
  {
   "cell_type": "code",
   "execution_count": null,
   "metadata": {},
   "outputs": [],
   "source": [
    "grid_search = GridSearchCV(count_model, parameters, cv=3, n_jobs=-1, scoring='f1', verbose=1)"
   ]
  },
  {
   "attachments": {},
   "cell_type": "markdown",
   "metadata": {},
   "source": [
    "TFIDF Vectorizer"
   ]
  },
  {
   "attachments": {},
   "cell_type": "markdown",
   "metadata": {},
   "source": [
    "Word2vec"
   ]
  },
  {
   "cell_type": "code",
   "execution_count": 386,
   "metadata": {},
   "outputs": [
    {
     "data": {
      "text/plain": [
       "0         экс министр экономики молдовы главе мидэи цель...\n",
       "1         эта песня стала известна многим телезрителям б...\n",
       "2          банши сезон серия бремя красоты смотреть онлайн \n",
       "3                                     не беси меня картинки\n",
       "4         в новомосковске сыграют следж хоккеисты алекси...\n",
       "                                ...                        \n",
       "135304    пора тюльпанов турецкий сериал на русском язык...\n",
       "135305    остросюжетный сериал шеф игра на повышение я с...\n",
       "135306     plymouth special deluxe hot rod automatic sma...\n",
       "135307    купить it s skin сыворотка питательная power f...\n",
       "135308    технический спирт в канистрах и флаконах купит...\n",
       "Name: title, Length: 135309, dtype: object"
      ]
     },
     "execution_count": 386,
     "metadata": {},
     "output_type": "execute_result"
    }
   ],
   "source": [
    "X[\"title\"].apply(preprocessor)"
   ]
  },
  {
   "cell_type": "markdown",
   "metadata": {},
   "source": [
    "### Submit"
   ]
  },
  {
   "cell_type": "code",
   "execution_count": 17,
   "metadata": {},
   "outputs": [
    {
     "name": "stdout",
     "output_type": "stream",
     "text": [
      "id,target\r\n",
      "135309,False\r\n",
      "135310,False\r\n",
      "135311,False\r\n",
      "135312,True\r\n",
      "135313,False\r\n",
      "135314,False\r\n",
      "135315,False\r\n",
      "135316,False\r\n",
      "135317,False\r\n",
      "cat: stdout: Broken pipe\r\n"
     ]
    }
   ],
   "source": [
    "X_test_vectorized = vectorizer.transform(X_test)\n",
    "\n",
    "test_df[\"target\"] = model.predict(X_test_vectorized).astype(bool)\n",
    "\n",
    "test_df[[\"id\", \"target\"]].to_csv(\"ml_baseline.csv\", index=False)\n",
    "\n",
    "!cat ml_baseline.csv | head"
   ]
  },
  {
   "cell_type": "code",
   "execution_count": null,
   "metadata": {},
   "outputs": [],
   "source": []
  }
 ],
 "metadata": {
  "kernelspec": {
   "display_name": "Python 3",
   "language": "python",
   "name": "python3"
  },
  "language_info": {
   "codemirror_mode": {
    "name": "ipython",
    "version": 3
   },
   "file_extension": ".py",
   "mimetype": "text/x-python",
   "name": "python",
   "nbconvert_exporter": "python",
   "pygments_lexer": "ipython3",
   "version": "3.10.0"
  }
 },
 "nbformat": 4,
 "nbformat_minor": 2
}
